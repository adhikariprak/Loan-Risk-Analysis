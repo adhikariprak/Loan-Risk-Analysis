{
 "cells": [
  {
   "cell_type": "code",
   "execution_count": 1,
   "metadata": {},
   "outputs": [],
   "source": [
    "import os\n",
    "import pandas as pd\n",
    "import numpy as np\n",
    "\n",
    "import seaborn as sns\n",
    "\n",
    "import matplotlib\n",
    "import matplotlib.pyplot as plt\n",
    "%matplotlib inline\n",
    "matplotlib.style.use('ggplot')"
   ]
  },
  {
   "cell_type": "markdown",
   "metadata": {},
   "source": [
    "### The Goal of this analysis is to build a machine learning model that can predict Payment Default.\n",
    "\n",
    "First Payment Default1 will be the Target Variable"
   ]
  },
  {
   "cell_type": "code",
   "execution_count": 2,
   "metadata": {},
   "outputs": [
    {
     "data": {
      "text/html": [
       "<div>\n",
       "<style scoped>\n",
       "    .dataframe tbody tr th:only-of-type {\n",
       "        vertical-align: middle;\n",
       "    }\n",
       "\n",
       "    .dataframe tbody tr th {\n",
       "        vertical-align: top;\n",
       "    }\n",
       "\n",
       "    .dataframe thead th {\n",
       "        text-align: right;\n",
       "    }\n",
       "</style>\n",
       "<table border=\"1\" class=\"dataframe\">\n",
       "  <thead>\n",
       "    <tr style=\"text-align: right;\">\n",
       "      <th></th>\n",
       "      <th>SetID</th>\n",
       "      <th>Time of Application</th>\n",
       "      <th>State</th>\n",
       "      <th>Monthly Net Income</th>\n",
       "      <th>Paycheck Net Income</th>\n",
       "      <th>Rent or Own</th>\n",
       "      <th>Months at Residence</th>\n",
       "      <th>Bank Account Months</th>\n",
       "      <th>Pay Cycle</th>\n",
       "      <th>Loan Amount</th>\n",
       "      <th>Loan Funded Date</th>\n",
       "      <th>First Payment Default1</th>\n",
       "      <th>First Payment Default12</th>\n",
       "      <th>Loan Due Date</th>\n",
       "      <th>Loan Funded Date3</th>\n",
       "      <th>Loan Due Date_Dummy</th>\n",
       "      <th>Loan Funded Date_Dummy</th>\n",
       "      <th>LoanDays</th>\n",
       "    </tr>\n",
       "  </thead>\n",
       "  <tbody>\n",
       "    <tr>\n",
       "      <th>0</th>\n",
       "      <td>436</td>\n",
       "      <td>2018-03-28T17:27:35Z</td>\n",
       "      <td>CA</td>\n",
       "      <td>2000.0</td>\n",
       "      <td>2000.0</td>\n",
       "      <td>R</td>\n",
       "      <td>12</td>\n",
       "      <td>6</td>\n",
       "      <td>Monthly</td>\n",
       "      <td>300.00</td>\n",
       "      <td>3/28/2018</td>\n",
       "      <td>False</td>\n",
       "      <td>0</td>\n",
       "      <td>2018-04-11</td>\n",
       "      <td>2018-03-28</td>\n",
       "      <td>4</td>\n",
       "      <td>3</td>\n",
       "      <td>14</td>\n",
       "    </tr>\n",
       "    <tr>\n",
       "      <th>1</th>\n",
       "      <td>615</td>\n",
       "      <td>2018-03-23T13:19:32Z</td>\n",
       "      <td>TX</td>\n",
       "      <td>3500.0</td>\n",
       "      <td>3500.0</td>\n",
       "      <td>R</td>\n",
       "      <td>60</td>\n",
       "      <td>60</td>\n",
       "      <td>Monthly</td>\n",
       "      <td>641.91</td>\n",
       "      <td>3/23/2018</td>\n",
       "      <td>False</td>\n",
       "      <td>0</td>\n",
       "      <td>2018-04-06</td>\n",
       "      <td>2018-03-23</td>\n",
       "      <td>4</td>\n",
       "      <td>3</td>\n",
       "      <td>14</td>\n",
       "    </tr>\n",
       "    <tr>\n",
       "      <th>2</th>\n",
       "      <td>1251</td>\n",
       "      <td>2018-02-28T12:04:56Z</td>\n",
       "      <td>CA</td>\n",
       "      <td>3000.0</td>\n",
       "      <td>3000.0</td>\n",
       "      <td>R</td>\n",
       "      <td>0</td>\n",
       "      <td>6</td>\n",
       "      <td>Monthly</td>\n",
       "      <td>117.65</td>\n",
       "      <td>2/28/2018</td>\n",
       "      <td>True</td>\n",
       "      <td>1</td>\n",
       "      <td>2018-03-30</td>\n",
       "      <td>2018-02-28</td>\n",
       "      <td>3</td>\n",
       "      <td>2</td>\n",
       "      <td>30</td>\n",
       "    </tr>\n",
       "    <tr>\n",
       "      <th>3</th>\n",
       "      <td>440</td>\n",
       "      <td>2018-03-28T15:47:59Z</td>\n",
       "      <td>CA</td>\n",
       "      <td>1500.0</td>\n",
       "      <td>1500.0</td>\n",
       "      <td>R</td>\n",
       "      <td>12</td>\n",
       "      <td>6</td>\n",
       "      <td>Monthly</td>\n",
       "      <td>117.65</td>\n",
       "      <td>3/28/2018</td>\n",
       "      <td>False</td>\n",
       "      <td>0</td>\n",
       "      <td>2018-04-28</td>\n",
       "      <td>2018-03-28</td>\n",
       "      <td>4</td>\n",
       "      <td>3</td>\n",
       "      <td>31</td>\n",
       "    </tr>\n",
       "    <tr>\n",
       "      <th>4</th>\n",
       "      <td>1692</td>\n",
       "      <td>2018-02-13T04:36:00Z</td>\n",
       "      <td>CA</td>\n",
       "      <td>2392.0</td>\n",
       "      <td>598.0</td>\n",
       "      <td>R</td>\n",
       "      <td>130</td>\n",
       "      <td>36</td>\n",
       "      <td>Weekly</td>\n",
       "      <td>300.00</td>\n",
       "      <td>2/13/2018</td>\n",
       "      <td>False</td>\n",
       "      <td>0</td>\n",
       "      <td>2018-02-23</td>\n",
       "      <td>2018-02-13</td>\n",
       "      <td>2</td>\n",
       "      <td>2</td>\n",
       "      <td>10</td>\n",
       "    </tr>\n",
       "  </tbody>\n",
       "</table>\n",
       "</div>"
      ],
      "text/plain": [
       "   SetID   Time of Application State  Monthly Net Income  Paycheck Net Income  \\\n",
       "0    436  2018-03-28T17:27:35Z    CA              2000.0               2000.0   \n",
       "1    615  2018-03-23T13:19:32Z    TX              3500.0               3500.0   \n",
       "2   1251  2018-02-28T12:04:56Z    CA              3000.0               3000.0   \n",
       "3    440  2018-03-28T15:47:59Z    CA              1500.0               1500.0   \n",
       "4   1692  2018-02-13T04:36:00Z    CA              2392.0                598.0   \n",
       "\n",
       "  Rent or Own  Months at Residence  Bank Account Months Pay Cycle  \\\n",
       "0           R                   12                    6   Monthly   \n",
       "1           R                   60                   60   Monthly   \n",
       "2           R                    0                    6   Monthly   \n",
       "3           R                   12                    6   Monthly   \n",
       "4           R                  130                   36    Weekly   \n",
       "\n",
       "   Loan Amount Loan Funded Date  First Payment Default1  \\\n",
       "0       300.00        3/28/2018                   False   \n",
       "1       641.91        3/23/2018                   False   \n",
       "2       117.65        2/28/2018                    True   \n",
       "3       117.65        3/28/2018                   False   \n",
       "4       300.00        2/13/2018                   False   \n",
       "\n",
       "   First Payment Default12 Loan Due Date Loan Funded Date3  \\\n",
       "0                        0    2018-04-11        2018-03-28   \n",
       "1                        0    2018-04-06        2018-03-23   \n",
       "2                        1    2018-03-30        2018-02-28   \n",
       "3                        0    2018-04-28        2018-03-28   \n",
       "4                        0    2018-02-23        2018-02-13   \n",
       "\n",
       "   Loan Due Date_Dummy  Loan Funded Date_Dummy  LoanDays  \n",
       "0                    4                       3        14  \n",
       "1                    4                       3        14  \n",
       "2                    3                       2        30  \n",
       "3                    4                       3        31  \n",
       "4                    2                       2        10  "
      ]
     },
     "execution_count": 2,
     "metadata": {},
     "output_type": "execute_result"
    }
   ],
   "source": [
    "mydata = pd.read_csv(\"2018-05-17-Recruit-Sample-Data-Train.csv\")\n",
    "mydata.head()"
   ]
  },
  {
   "cell_type": "code",
   "execution_count": 3,
   "metadata": {},
   "outputs": [
    {
     "data": {
      "text/plain": [
       "(1600, 18)"
      ]
     },
     "execution_count": 3,
     "metadata": {},
     "output_type": "execute_result"
    }
   ],
   "source": [
    "mydata.shape"
   ]
  },
  {
   "cell_type": "code",
   "execution_count": 4,
   "metadata": {},
   "outputs": [
    {
     "data": {
      "text/plain": [
       "SetID                      1600\n",
       "Time of Application        1590\n",
       "State                         2\n",
       "Monthly Net Income          502\n",
       "Paycheck Net Income         492\n",
       "Rent or Own                   2\n",
       "Months at Residence         226\n",
       "Bank Account Months          55\n",
       "Pay Cycle                     4\n",
       "Loan Amount                 113\n",
       "Loan Funded Date             73\n",
       "First Payment Default1        2\n",
       "First Payment Default12       2\n",
       "Loan Due Date                76\n",
       "Loan Funded Date3            73\n",
       "Loan Due Date_Dummy           4\n",
       "Loan Funded Date_Dummy        4\n",
       "LoanDays                     26\n",
       "dtype: int64"
      ]
     },
     "execution_count": 4,
     "metadata": {},
     "output_type": "execute_result"
    }
   ],
   "source": [
    "mydata.nunique()"
   ]
  },
  {
   "cell_type": "markdown",
   "metadata": {},
   "source": [
    "### Checking the Missing Values"
   ]
  },
  {
   "cell_type": "code",
   "execution_count": 5,
   "metadata": {},
   "outputs": [
    {
     "data": {
      "text/html": [
       "<div>\n",
       "<style scoped>\n",
       "    .dataframe tbody tr th:only-of-type {\n",
       "        vertical-align: middle;\n",
       "    }\n",
       "\n",
       "    .dataframe tbody tr th {\n",
       "        vertical-align: top;\n",
       "    }\n",
       "\n",
       "    .dataframe thead th {\n",
       "        text-align: right;\n",
       "    }\n",
       "</style>\n",
       "<table border=\"1\" class=\"dataframe\">\n",
       "  <thead>\n",
       "    <tr style=\"text-align: right;\">\n",
       "      <th></th>\n",
       "      <th>Total</th>\n",
       "      <th>%</th>\n",
       "    </tr>\n",
       "  </thead>\n",
       "  <tbody>\n",
       "    <tr>\n",
       "      <th>LoanDays</th>\n",
       "      <td>0</td>\n",
       "      <td>0.0</td>\n",
       "    </tr>\n",
       "    <tr>\n",
       "      <th>Loan Funded Date_Dummy</th>\n",
       "      <td>0</td>\n",
       "      <td>0.0</td>\n",
       "    </tr>\n",
       "    <tr>\n",
       "      <th>Time of Application</th>\n",
       "      <td>0</td>\n",
       "      <td>0.0</td>\n",
       "    </tr>\n",
       "    <tr>\n",
       "      <th>State</th>\n",
       "      <td>0</td>\n",
       "      <td>0.0</td>\n",
       "    </tr>\n",
       "    <tr>\n",
       "      <th>Monthly Net Income</th>\n",
       "      <td>0</td>\n",
       "      <td>0.0</td>\n",
       "    </tr>\n",
       "    <tr>\n",
       "      <th>Paycheck Net Income</th>\n",
       "      <td>0</td>\n",
       "      <td>0.0</td>\n",
       "    </tr>\n",
       "    <tr>\n",
       "      <th>Rent or Own</th>\n",
       "      <td>0</td>\n",
       "      <td>0.0</td>\n",
       "    </tr>\n",
       "    <tr>\n",
       "      <th>Months at Residence</th>\n",
       "      <td>0</td>\n",
       "      <td>0.0</td>\n",
       "    </tr>\n",
       "    <tr>\n",
       "      <th>Bank Account Months</th>\n",
       "      <td>0</td>\n",
       "      <td>0.0</td>\n",
       "    </tr>\n",
       "    <tr>\n",
       "      <th>Pay Cycle</th>\n",
       "      <td>0</td>\n",
       "      <td>0.0</td>\n",
       "    </tr>\n",
       "    <tr>\n",
       "      <th>Loan Amount</th>\n",
       "      <td>0</td>\n",
       "      <td>0.0</td>\n",
       "    </tr>\n",
       "    <tr>\n",
       "      <th>Loan Funded Date</th>\n",
       "      <td>0</td>\n",
       "      <td>0.0</td>\n",
       "    </tr>\n",
       "    <tr>\n",
       "      <th>First Payment Default1</th>\n",
       "      <td>0</td>\n",
       "      <td>0.0</td>\n",
       "    </tr>\n",
       "    <tr>\n",
       "      <th>First Payment Default12</th>\n",
       "      <td>0</td>\n",
       "      <td>0.0</td>\n",
       "    </tr>\n",
       "    <tr>\n",
       "      <th>Loan Due Date</th>\n",
       "      <td>0</td>\n",
       "      <td>0.0</td>\n",
       "    </tr>\n",
       "    <tr>\n",
       "      <th>Loan Funded Date3</th>\n",
       "      <td>0</td>\n",
       "      <td>0.0</td>\n",
       "    </tr>\n",
       "    <tr>\n",
       "      <th>Loan Due Date_Dummy</th>\n",
       "      <td>0</td>\n",
       "      <td>0.0</td>\n",
       "    </tr>\n",
       "    <tr>\n",
       "      <th>SetID</th>\n",
       "      <td>0</td>\n",
       "      <td>0.0</td>\n",
       "    </tr>\n",
       "  </tbody>\n",
       "</table>\n",
       "</div>"
      ],
      "text/plain": [
       "                         Total    %\n",
       "LoanDays                     0  0.0\n",
       "Loan Funded Date_Dummy       0  0.0\n",
       "Time of Application          0  0.0\n",
       "State                        0  0.0\n",
       "Monthly Net Income           0  0.0\n",
       "Paycheck Net Income          0  0.0\n",
       "Rent or Own                  0  0.0\n",
       "Months at Residence          0  0.0\n",
       "Bank Account Months          0  0.0\n",
       "Pay Cycle                    0  0.0\n",
       "Loan Amount                  0  0.0\n",
       "Loan Funded Date             0  0.0\n",
       "First Payment Default1       0  0.0\n",
       "First Payment Default12      0  0.0\n",
       "Loan Due Date                0  0.0\n",
       "Loan Funded Date3            0  0.0\n",
       "Loan Due Date_Dummy          0  0.0\n",
       "SetID                        0  0.0"
      ]
     },
     "execution_count": 5,
     "metadata": {},
     "output_type": "execute_result"
    }
   ],
   "source": [
    "total = mydata.isnull().sum().sort_values(ascending=False)\n",
    "percent_1 = mydata.isnull().sum()/mydata.isnull().count()*100\n",
    "percent_2 = (round(percent_1, 1)).sort_values(ascending=False)\n",
    "missing_data = pd.concat([total, percent_2], axis=1, keys=['Total', '%'],sort=False)\n",
    "missing_data.head(26)\n"
   ]
  },
  {
   "cell_type": "markdown",
   "metadata": {},
   "source": [
    "Hence, there is no missing values in the data set."
   ]
  },
  {
   "cell_type": "markdown",
   "metadata": {},
   "source": [
    "### COMPUTING NEW VARIABLES"
   ]
  },
  {
   "cell_type": "markdown",
   "metadata": {},
   "source": [
    "#### Lets split  'The Time of Application' into Time and Date "
   ]
  },
  {
   "cell_type": "code",
   "execution_count": 6,
   "metadata": {},
   "outputs": [],
   "source": [
    "mydata['Dates'] = pd.to_datetime(mydata['Time of Application']).dt.date\n",
    "mydata['Time'] = pd.to_datetime(mydata['Time of Application']).dt.time"
   ]
  },
  {
   "cell_type": "code",
   "execution_count": 7,
   "metadata": {},
   "outputs": [],
   "source": [
    "def week_day(x):\n",
    "    return [i.strftime(\"%A\") for i in x]\n",
    "\n",
    "mydata['Week_Day'] = week_day(mydata.Dates)"
   ]
  },
  {
   "cell_type": "code",
   "execution_count": 8,
   "metadata": {},
   "outputs": [
    {
     "data": {
      "text/plain": [
       "7"
      ]
     },
     "execution_count": 8,
     "metadata": {},
     "output_type": "execute_result"
    }
   ],
   "source": [
    "mydata['Week_Day'].nunique()"
   ]
  },
  {
   "cell_type": "markdown",
   "metadata": {},
   "source": [
    " #### Duration for approving the Loan"
   ]
  },
  {
   "cell_type": "code",
   "execution_count": 9,
   "metadata": {},
   "outputs": [],
   "source": [
    "from datetime import datetime\n",
    "\n",
    "def Loan_Approval_Duration(d1, d2):\n",
    "    Date1 = pd.to_datetime(d1, format='%Y-%m-%d')\n",
    "    Date2 = pd.to_datetime(d2, format='%Y-%m-%d')\n",
    "    \n",
    "    return abs(Date2 - Date1)\n",
    "    "
   ]
  },
  {
   "cell_type": "code",
   "execution_count": 10,
   "metadata": {},
   "outputs": [],
   "source": [
    "mydata['Loan Approval Duration (Days)'] = Loan_Approval_Duration(mydata['Dates'], mydata['Loan Funded Date3'])"
   ]
  },
  {
   "cell_type": "code",
   "execution_count": 11,
   "metadata": {},
   "outputs": [],
   "source": [
    "#mydata.dtypes"
   ]
  },
  {
   "cell_type": "code",
   "execution_count": 12,
   "metadata": {},
   "outputs": [],
   "source": [
    "mydata['Loan Approval Duration (Days)'] =  mydata['Loan Approval Duration (Days)'].dt.days.astype('int16')"
   ]
  },
  {
   "cell_type": "code",
   "execution_count": 13,
   "metadata": {},
   "outputs": [
    {
     "data": {
      "text/plain": [
       "0      0\n",
       "1      2\n",
       "2      1\n",
       "3      4\n",
       "4      6\n",
       "5      3\n",
       "6     15\n",
       "7      5\n",
       "8     11\n",
       "9     14\n",
       "10     7\n",
       "11     9\n",
       "12     8\n",
       "dtype: int64"
      ]
     },
     "execution_count": 13,
     "metadata": {},
     "output_type": "execute_result"
    }
   ],
   "source": [
    "pd.Series(mydata['Loan Approval Duration (Days)'].unique())"
   ]
  },
  {
   "cell_type": "code",
   "execution_count": 14,
   "metadata": {},
   "outputs": [
    {
     "data": {
      "text/html": [
       "<div>\n",
       "<style scoped>\n",
       "    .dataframe tbody tr th:only-of-type {\n",
       "        vertical-align: middle;\n",
       "    }\n",
       "\n",
       "    .dataframe tbody tr th {\n",
       "        vertical-align: top;\n",
       "    }\n",
       "\n",
       "    .dataframe thead th {\n",
       "        text-align: right;\n",
       "    }\n",
       "</style>\n",
       "<table border=\"1\" class=\"dataframe\">\n",
       "  <thead>\n",
       "    <tr style=\"text-align: right;\">\n",
       "      <th></th>\n",
       "      <th>SetID</th>\n",
       "      <th>Time of Application</th>\n",
       "      <th>State</th>\n",
       "      <th>Monthly Net Income</th>\n",
       "      <th>Paycheck Net Income</th>\n",
       "      <th>Rent or Own</th>\n",
       "      <th>Months at Residence</th>\n",
       "      <th>Bank Account Months</th>\n",
       "      <th>Pay Cycle</th>\n",
       "      <th>Loan Amount</th>\n",
       "      <th>...</th>\n",
       "      <th>First Payment Default12</th>\n",
       "      <th>Loan Due Date</th>\n",
       "      <th>Loan Funded Date3</th>\n",
       "      <th>Loan Due Date_Dummy</th>\n",
       "      <th>Loan Funded Date_Dummy</th>\n",
       "      <th>LoanDays</th>\n",
       "      <th>Dates</th>\n",
       "      <th>Time</th>\n",
       "      <th>Week_Day</th>\n",
       "      <th>Loan Approval Duration (Days)</th>\n",
       "    </tr>\n",
       "  </thead>\n",
       "  <tbody>\n",
       "    <tr>\n",
       "      <th>0</th>\n",
       "      <td>436</td>\n",
       "      <td>2018-03-28T17:27:35Z</td>\n",
       "      <td>CA</td>\n",
       "      <td>2000.0</td>\n",
       "      <td>2000.0</td>\n",
       "      <td>R</td>\n",
       "      <td>12</td>\n",
       "      <td>6</td>\n",
       "      <td>Monthly</td>\n",
       "      <td>300.00</td>\n",
       "      <td>...</td>\n",
       "      <td>0</td>\n",
       "      <td>2018-04-11</td>\n",
       "      <td>2018-03-28</td>\n",
       "      <td>4</td>\n",
       "      <td>3</td>\n",
       "      <td>14</td>\n",
       "      <td>2018-03-28</td>\n",
       "      <td>17:27:35</td>\n",
       "      <td>Wednesday</td>\n",
       "      <td>0</td>\n",
       "    </tr>\n",
       "    <tr>\n",
       "      <th>1</th>\n",
       "      <td>615</td>\n",
       "      <td>2018-03-23T13:19:32Z</td>\n",
       "      <td>TX</td>\n",
       "      <td>3500.0</td>\n",
       "      <td>3500.0</td>\n",
       "      <td>R</td>\n",
       "      <td>60</td>\n",
       "      <td>60</td>\n",
       "      <td>Monthly</td>\n",
       "      <td>641.91</td>\n",
       "      <td>...</td>\n",
       "      <td>0</td>\n",
       "      <td>2018-04-06</td>\n",
       "      <td>2018-03-23</td>\n",
       "      <td>4</td>\n",
       "      <td>3</td>\n",
       "      <td>14</td>\n",
       "      <td>2018-03-23</td>\n",
       "      <td>13:19:32</td>\n",
       "      <td>Friday</td>\n",
       "      <td>0</td>\n",
       "    </tr>\n",
       "    <tr>\n",
       "      <th>2</th>\n",
       "      <td>1251</td>\n",
       "      <td>2018-02-28T12:04:56Z</td>\n",
       "      <td>CA</td>\n",
       "      <td>3000.0</td>\n",
       "      <td>3000.0</td>\n",
       "      <td>R</td>\n",
       "      <td>0</td>\n",
       "      <td>6</td>\n",
       "      <td>Monthly</td>\n",
       "      <td>117.65</td>\n",
       "      <td>...</td>\n",
       "      <td>1</td>\n",
       "      <td>2018-03-30</td>\n",
       "      <td>2018-02-28</td>\n",
       "      <td>3</td>\n",
       "      <td>2</td>\n",
       "      <td>30</td>\n",
       "      <td>2018-02-28</td>\n",
       "      <td>12:04:56</td>\n",
       "      <td>Wednesday</td>\n",
       "      <td>0</td>\n",
       "    </tr>\n",
       "    <tr>\n",
       "      <th>3</th>\n",
       "      <td>440</td>\n",
       "      <td>2018-03-28T15:47:59Z</td>\n",
       "      <td>CA</td>\n",
       "      <td>1500.0</td>\n",
       "      <td>1500.0</td>\n",
       "      <td>R</td>\n",
       "      <td>12</td>\n",
       "      <td>6</td>\n",
       "      <td>Monthly</td>\n",
       "      <td>117.65</td>\n",
       "      <td>...</td>\n",
       "      <td>0</td>\n",
       "      <td>2018-04-28</td>\n",
       "      <td>2018-03-28</td>\n",
       "      <td>4</td>\n",
       "      <td>3</td>\n",
       "      <td>31</td>\n",
       "      <td>2018-03-28</td>\n",
       "      <td>15:47:59</td>\n",
       "      <td>Wednesday</td>\n",
       "      <td>0</td>\n",
       "    </tr>\n",
       "    <tr>\n",
       "      <th>4</th>\n",
       "      <td>1692</td>\n",
       "      <td>2018-02-13T04:36:00Z</td>\n",
       "      <td>CA</td>\n",
       "      <td>2392.0</td>\n",
       "      <td>598.0</td>\n",
       "      <td>R</td>\n",
       "      <td>130</td>\n",
       "      <td>36</td>\n",
       "      <td>Weekly</td>\n",
       "      <td>300.00</td>\n",
       "      <td>...</td>\n",
       "      <td>0</td>\n",
       "      <td>2018-02-23</td>\n",
       "      <td>2018-02-13</td>\n",
       "      <td>2</td>\n",
       "      <td>2</td>\n",
       "      <td>10</td>\n",
       "      <td>2018-02-13</td>\n",
       "      <td>04:36:00</td>\n",
       "      <td>Tuesday</td>\n",
       "      <td>0</td>\n",
       "    </tr>\n",
       "  </tbody>\n",
       "</table>\n",
       "<p>5 rows × 22 columns</p>\n",
       "</div>"
      ],
      "text/plain": [
       "   SetID   Time of Application State  Monthly Net Income  Paycheck Net Income  \\\n",
       "0    436  2018-03-28T17:27:35Z    CA              2000.0               2000.0   \n",
       "1    615  2018-03-23T13:19:32Z    TX              3500.0               3500.0   \n",
       "2   1251  2018-02-28T12:04:56Z    CA              3000.0               3000.0   \n",
       "3    440  2018-03-28T15:47:59Z    CA              1500.0               1500.0   \n",
       "4   1692  2018-02-13T04:36:00Z    CA              2392.0                598.0   \n",
       "\n",
       "  Rent or Own  Months at Residence  Bank Account Months Pay Cycle  \\\n",
       "0           R                   12                    6   Monthly   \n",
       "1           R                   60                   60   Monthly   \n",
       "2           R                    0                    6   Monthly   \n",
       "3           R                   12                    6   Monthly   \n",
       "4           R                  130                   36    Weekly   \n",
       "\n",
       "   Loan Amount  ... First Payment Default12  Loan Due Date  Loan Funded Date3  \\\n",
       "0       300.00  ...                       0     2018-04-11         2018-03-28   \n",
       "1       641.91  ...                       0     2018-04-06         2018-03-23   \n",
       "2       117.65  ...                       1     2018-03-30         2018-02-28   \n",
       "3       117.65  ...                       0     2018-04-28         2018-03-28   \n",
       "4       300.00  ...                       0     2018-02-23         2018-02-13   \n",
       "\n",
       "  Loan Due Date_Dummy Loan Funded Date_Dummy  LoanDays       Dates      Time  \\\n",
       "0                   4                      3        14  2018-03-28  17:27:35   \n",
       "1                   4                      3        14  2018-03-23  13:19:32   \n",
       "2                   3                      2        30  2018-02-28  12:04:56   \n",
       "3                   4                      3        31  2018-03-28  15:47:59   \n",
       "4                   2                      2        10  2018-02-13  04:36:00   \n",
       "\n",
       "    Week_Day Loan Approval Duration (Days)  \n",
       "0  Wednesday                             0  \n",
       "1     Friday                             0  \n",
       "2  Wednesday                             0  \n",
       "3  Wednesday                             0  \n",
       "4    Tuesday                             0  \n",
       "\n",
       "[5 rows x 22 columns]"
      ]
     },
     "execution_count": 14,
     "metadata": {},
     "output_type": "execute_result"
    }
   ],
   "source": [
    "mydata.head()"
   ]
  },
  {
   "cell_type": "markdown",
   "metadata": {},
   "source": [
    "#### Dropping Un-necessay columns"
   ]
  },
  {
   "cell_type": "code",
   "execution_count": 15,
   "metadata": {},
   "outputs": [
    {
     "data": {
      "image/png": "[encoded data removed]",
      "text/plain": [
       "<Figure size 432x288 with 1 Axes>"
      ]
     },
     "metadata": {
      "needs_background": "light"
     },
     "output_type": "display_data"
    }
   ],
   "source": [
    "# Lets check the correlation between 'Loan Funded Date' and 'Loan Funded Date3'\n",
    "\n",
    "plt.scatter(mydata['Loan Funded Date'], mydata['Loan Funded Date3'])\n",
    "plt.show()"
   ]
  },
  {
   "cell_type": "markdown",
   "metadata": {},
   "source": [
    "#From the plot, we can see that these two values are highly correlated. So, we can drop one of them.\n"
   ]
  },
  {
   "cell_type": "code",
   "execution_count": 16,
   "metadata": {},
   "outputs": [],
   "source": [
    "mydata = mydata.drop(['Time of Application'], axis =1)"
   ]
  },
  {
   "cell_type": "code",
   "execution_count": 17,
   "metadata": {},
   "outputs": [],
   "source": [
    "mydata = mydata.drop(['Loan Funded Date3'], axis=1)"
   ]
  },
  {
   "cell_type": "code",
   "execution_count": 18,
   "metadata": {},
   "outputs": [],
   "source": [
    "# From the table, we can see that the 'Loan Funded Date' and 'Dates' have the same value, we can drop one of them.\n",
    "\n",
    "mydata=mydata.drop(['Loan Funded Date'], axis =1)"
   ]
  },
  {
   "cell_type": "markdown",
   "metadata": {},
   "source": [
    "Here, we need to know that the 'Time of Application', 'Loan Funded Date', 'Loan Funded Date3', 'Dates' were processed to extract two new variables: 'Dates, 'Week_days and 'Loan Approval Duration (Days)'. So, we can drop these variables.\n"
   ]
  },
  {
   "cell_type": "markdown",
   "metadata": {},
   "source": [
    "Since, Banking and Financial system has the online services, people can apply for the loan at any time from anywhere. Customer may apply for the loan via online services during office hour also. So, the \"Time\" column is not going to be considered for this analysis. "
   ]
  },
  {
   "cell_type": "code",
   "execution_count": 19,
   "metadata": {},
   "outputs": [],
   "source": [
    "mydata=mydata.drop(['Time'], axis =1)"
   ]
  },
  {
   "cell_type": "markdown",
   "metadata": {},
   "source": [
    "Since, 'Loan Due Date' and 'LoanDays' gives the duration of the loan (meaning they are highly correlated), 'Loan Due Date' is going to be dropped for this analysis."
   ]
  },
  {
   "cell_type": "code",
   "execution_count": 20,
   "metadata": {},
   "outputs": [],
   "source": [
    "mydata=mydata.drop(['Loan Due Date'], axis =1)"
   ]
  },
  {
   "cell_type": "code",
   "execution_count": 21,
   "metadata": {},
   "outputs": [
    {
     "data": {
      "text/html": [
       "<div>\n",
       "<style scoped>\n",
       "    .dataframe tbody tr th:only-of-type {\n",
       "        vertical-align: middle;\n",
       "    }\n",
       "\n",
       "    .dataframe tbody tr th {\n",
       "        vertical-align: top;\n",
       "    }\n",
       "\n",
       "    .dataframe thead th {\n",
       "        text-align: right;\n",
       "    }\n",
       "</style>\n",
       "<table border=\"1\" class=\"dataframe\">\n",
       "  <thead>\n",
       "    <tr style=\"text-align: right;\">\n",
       "      <th></th>\n",
       "      <th>SetID</th>\n",
       "      <th>State</th>\n",
       "      <th>Monthly Net Income</th>\n",
       "      <th>Paycheck Net Income</th>\n",
       "      <th>Rent or Own</th>\n",
       "      <th>Months at Residence</th>\n",
       "      <th>Bank Account Months</th>\n",
       "      <th>Pay Cycle</th>\n",
       "      <th>Loan Amount</th>\n",
       "      <th>First Payment Default1</th>\n",
       "      <th>First Payment Default12</th>\n",
       "      <th>Loan Due Date_Dummy</th>\n",
       "      <th>Loan Funded Date_Dummy</th>\n",
       "      <th>LoanDays</th>\n",
       "      <th>Dates</th>\n",
       "      <th>Week_Day</th>\n",
       "      <th>Loan Approval Duration (Days)</th>\n",
       "    </tr>\n",
       "  </thead>\n",
       "  <tbody>\n",
       "    <tr>\n",
       "      <th>0</th>\n",
       "      <td>436</td>\n",
       "      <td>CA</td>\n",
       "      <td>2000.0</td>\n",
       "      <td>2000.0</td>\n",
       "      <td>R</td>\n",
       "      <td>12</td>\n",
       "      <td>6</td>\n",
       "      <td>Monthly</td>\n",
       "      <td>300.00</td>\n",
       "      <td>False</td>\n",
       "      <td>0</td>\n",
       "      <td>4</td>\n",
       "      <td>3</td>\n",
       "      <td>14</td>\n",
       "      <td>2018-03-28</td>\n",
       "      <td>Wednesday</td>\n",
       "      <td>0</td>\n",
       "    </tr>\n",
       "    <tr>\n",
       "      <th>1</th>\n",
       "      <td>615</td>\n",
       "      <td>TX</td>\n",
       "      <td>3500.0</td>\n",
       "      <td>3500.0</td>\n",
       "      <td>R</td>\n",
       "      <td>60</td>\n",
       "      <td>60</td>\n",
       "      <td>Monthly</td>\n",
       "      <td>641.91</td>\n",
       "      <td>False</td>\n",
       "      <td>0</td>\n",
       "      <td>4</td>\n",
       "      <td>3</td>\n",
       "      <td>14</td>\n",
       "      <td>2018-03-23</td>\n",
       "      <td>Friday</td>\n",
       "      <td>0</td>\n",
       "    </tr>\n",
       "    <tr>\n",
       "      <th>2</th>\n",
       "      <td>1251</td>\n",
       "      <td>CA</td>\n",
       "      <td>3000.0</td>\n",
       "      <td>3000.0</td>\n",
       "      <td>R</td>\n",
       "      <td>0</td>\n",
       "      <td>6</td>\n",
       "      <td>Monthly</td>\n",
       "      <td>117.65</td>\n",
       "      <td>True</td>\n",
       "      <td>1</td>\n",
       "      <td>3</td>\n",
       "      <td>2</td>\n",
       "      <td>30</td>\n",
       "      <td>2018-02-28</td>\n",
       "      <td>Wednesday</td>\n",
       "      <td>0</td>\n",
       "    </tr>\n",
       "    <tr>\n",
       "      <th>3</th>\n",
       "      <td>440</td>\n",
       "      <td>CA</td>\n",
       "      <td>1500.0</td>\n",
       "      <td>1500.0</td>\n",
       "      <td>R</td>\n",
       "      <td>12</td>\n",
       "      <td>6</td>\n",
       "      <td>Monthly</td>\n",
       "      <td>117.65</td>\n",
       "      <td>False</td>\n",
       "      <td>0</td>\n",
       "      <td>4</td>\n",
       "      <td>3</td>\n",
       "      <td>31</td>\n",
       "      <td>2018-03-28</td>\n",
       "      <td>Wednesday</td>\n",
       "      <td>0</td>\n",
       "    </tr>\n",
       "    <tr>\n",
       "      <th>4</th>\n",
       "      <td>1692</td>\n",
       "      <td>CA</td>\n",
       "      <td>2392.0</td>\n",
       "      <td>598.0</td>\n",
       "      <td>R</td>\n",
       "      <td>130</td>\n",
       "      <td>36</td>\n",
       "      <td>Weekly</td>\n",
       "      <td>300.00</td>\n",
       "      <td>False</td>\n",
       "      <td>0</td>\n",
       "      <td>2</td>\n",
       "      <td>2</td>\n",
       "      <td>10</td>\n",
       "      <td>2018-02-13</td>\n",
       "      <td>Tuesday</td>\n",
       "      <td>0</td>\n",
       "    </tr>\n",
       "  </tbody>\n",
       "</table>\n",
       "</div>"
      ],
      "text/plain": [
       "   SetID State  Monthly Net Income  Paycheck Net Income Rent or Own  \\\n",
       "0    436    CA              2000.0               2000.0           R   \n",
       "1    615    TX              3500.0               3500.0           R   \n",
       "2   1251    CA              3000.0               3000.0           R   \n",
       "3    440    CA              1500.0               1500.0           R   \n",
       "4   1692    CA              2392.0                598.0           R   \n",
       "\n",
       "   Months at Residence  Bank Account Months Pay Cycle  Loan Amount  \\\n",
       "0                   12                    6   Monthly       300.00   \n",
       "1                   60                   60   Monthly       641.91   \n",
       "2                    0                    6   Monthly       117.65   \n",
       "3                   12                    6   Monthly       117.65   \n",
       "4                  130                   36    Weekly       300.00   \n",
       "\n",
       "   First Payment Default1  First Payment Default12  Loan Due Date_Dummy  \\\n",
       "0                   False                        0                    4   \n",
       "1                   False                        0                    4   \n",
       "2                    True                        1                    3   \n",
       "3                   False                        0                    4   \n",
       "4                   False                        0                    2   \n",
       "\n",
       "   Loan Funded Date_Dummy  LoanDays       Dates   Week_Day  \\\n",
       "0                       3        14  2018-03-28  Wednesday   \n",
       "1                       3        14  2018-03-23     Friday   \n",
       "2                       2        30  2018-02-28  Wednesday   \n",
       "3                       3        31  2018-03-28  Wednesday   \n",
       "4                       2        10  2018-02-13    Tuesday   \n",
       "\n",
       "   Loan Approval Duration (Days)  \n",
       "0                              0  \n",
       "1                              0  \n",
       "2                              0  \n",
       "3                              0  \n",
       "4                              0  "
      ]
     },
     "execution_count": 21,
     "metadata": {},
     "output_type": "execute_result"
    }
   ],
   "source": [
    "mydata.head()"
   ]
  },
  {
   "cell_type": "code",
   "execution_count": 22,
   "metadata": {},
   "outputs": [],
   "source": [
    "mydata = mydata.drop(['Dates'], axis =1)"
   ]
  },
  {
   "cell_type": "code",
   "execution_count": 23,
   "metadata": {},
   "outputs": [],
   "source": [
    "mydata = mydata.drop(['SetID'], axis =1)"
   ]
  },
  {
   "cell_type": "markdown",
   "metadata": {},
   "source": [
    "From the table, we can see that the 'First Payment Default1' and 'First Payment Default12' are correlated. So, 'First Payment Default1' will be dropped"
   ]
  },
  {
   "cell_type": "code",
   "execution_count": 24,
   "metadata": {},
   "outputs": [],
   "source": [
    "mydata = mydata.drop(['First Payment Default1'], axis =1)"
   ]
  },
  {
   "cell_type": "code",
   "execution_count": 25,
   "metadata": {},
   "outputs": [
    {
     "data": {
      "text/html": [
       "<div>\n",
       "<style scoped>\n",
       "    .dataframe tbody tr th:only-of-type {\n",
       "        vertical-align: middle;\n",
       "    }\n",
       "\n",
       "    .dataframe tbody tr th {\n",
       "        vertical-align: top;\n",
       "    }\n",
       "\n",
       "    .dataframe thead th {\n",
       "        text-align: right;\n",
       "    }\n",
       "</style>\n",
       "<table border=\"1\" class=\"dataframe\">\n",
       "  <thead>\n",
       "    <tr style=\"text-align: right;\">\n",
       "      <th></th>\n",
       "      <th>State</th>\n",
       "      <th>Monthly Net Income</th>\n",
       "      <th>Paycheck Net Income</th>\n",
       "      <th>Rent or Own</th>\n",
       "      <th>Months at Residence</th>\n",
       "      <th>Bank Account Months</th>\n",
       "      <th>Pay Cycle</th>\n",
       "      <th>Loan Amount</th>\n",
       "      <th>First Payment Default12</th>\n",
       "      <th>Loan Due Date_Dummy</th>\n",
       "      <th>Loan Funded Date_Dummy</th>\n",
       "      <th>LoanDays</th>\n",
       "      <th>Week_Day</th>\n",
       "      <th>Loan Approval Duration (Days)</th>\n",
       "    </tr>\n",
       "  </thead>\n",
       "  <tbody>\n",
       "    <tr>\n",
       "      <th>0</th>\n",
       "      <td>CA</td>\n",
       "      <td>2000.0</td>\n",
       "      <td>2000.0</td>\n",
       "      <td>R</td>\n",
       "      <td>12</td>\n",
       "      <td>6</td>\n",
       "      <td>Monthly</td>\n",
       "      <td>300.00</td>\n",
       "      <td>0</td>\n",
       "      <td>4</td>\n",
       "      <td>3</td>\n",
       "      <td>14</td>\n",
       "      <td>Wednesday</td>\n",
       "      <td>0</td>\n",
       "    </tr>\n",
       "    <tr>\n",
       "      <th>1</th>\n",
       "      <td>TX</td>\n",
       "      <td>3500.0</td>\n",
       "      <td>3500.0</td>\n",
       "      <td>R</td>\n",
       "      <td>60</td>\n",
       "      <td>60</td>\n",
       "      <td>Monthly</td>\n",
       "      <td>641.91</td>\n",
       "      <td>0</td>\n",
       "      <td>4</td>\n",
       "      <td>3</td>\n",
       "      <td>14</td>\n",
       "      <td>Friday</td>\n",
       "      <td>0</td>\n",
       "    </tr>\n",
       "    <tr>\n",
       "      <th>2</th>\n",
       "      <td>CA</td>\n",
       "      <td>3000.0</td>\n",
       "      <td>3000.0</td>\n",
       "      <td>R</td>\n",
       "      <td>0</td>\n",
       "      <td>6</td>\n",
       "      <td>Monthly</td>\n",
       "      <td>117.65</td>\n",
       "      <td>1</td>\n",
       "      <td>3</td>\n",
       "      <td>2</td>\n",
       "      <td>30</td>\n",
       "      <td>Wednesday</td>\n",
       "      <td>0</td>\n",
       "    </tr>\n",
       "    <tr>\n",
       "      <th>3</th>\n",
       "      <td>CA</td>\n",
       "      <td>1500.0</td>\n",
       "      <td>1500.0</td>\n",
       "      <td>R</td>\n",
       "      <td>12</td>\n",
       "      <td>6</td>\n",
       "      <td>Monthly</td>\n",
       "      <td>117.65</td>\n",
       "      <td>0</td>\n",
       "      <td>4</td>\n",
       "      <td>3</td>\n",
       "      <td>31</td>\n",
       "      <td>Wednesday</td>\n",
       "      <td>0</td>\n",
       "    </tr>\n",
       "    <tr>\n",
       "      <th>4</th>\n",
       "      <td>CA</td>\n",
       "      <td>2392.0</td>\n",
       "      <td>598.0</td>\n",
       "      <td>R</td>\n",
       "      <td>130</td>\n",
       "      <td>36</td>\n",
       "      <td>Weekly</td>\n",
       "      <td>300.00</td>\n",
       "      <td>0</td>\n",
       "      <td>2</td>\n",
       "      <td>2</td>\n",
       "      <td>10</td>\n",
       "      <td>Tuesday</td>\n",
       "      <td>0</td>\n",
       "    </tr>\n",
       "  </tbody>\n",
       "</table>\n",
       "</div>"
      ],
      "text/plain": [
       "  State  Monthly Net Income  Paycheck Net Income Rent or Own  \\\n",
       "0    CA              2000.0               2000.0           R   \n",
       "1    TX              3500.0               3500.0           R   \n",
       "2    CA              3000.0               3000.0           R   \n",
       "3    CA              1500.0               1500.0           R   \n",
       "4    CA              2392.0                598.0           R   \n",
       "\n",
       "   Months at Residence  Bank Account Months Pay Cycle  Loan Amount  \\\n",
       "0                   12                    6   Monthly       300.00   \n",
       "1                   60                   60   Monthly       641.91   \n",
       "2                    0                    6   Monthly       117.65   \n",
       "3                   12                    6   Monthly       117.65   \n",
       "4                  130                   36    Weekly       300.00   \n",
       "\n",
       "   First Payment Default12  Loan Due Date_Dummy  Loan Funded Date_Dummy  \\\n",
       "0                        0                    4                       3   \n",
       "1                        0                    4                       3   \n",
       "2                        1                    3                       2   \n",
       "3                        0                    4                       3   \n",
       "4                        0                    2                       2   \n",
       "\n",
       "   LoanDays   Week_Day  Loan Approval Duration (Days)  \n",
       "0        14  Wednesday                              0  \n",
       "1        14     Friday                              0  \n",
       "2        30  Wednesday                              0  \n",
       "3        31  Wednesday                              0  \n",
       "4        10    Tuesday                              0  "
      ]
     },
     "execution_count": 25,
     "metadata": {},
     "output_type": "execute_result"
    }
   ],
   "source": [
    "mydata.head()"
   ]
  },
  {
   "cell_type": "code",
   "execution_count": 26,
   "metadata": {},
   "outputs": [
    {
     "data": {
      "text/plain": [
       "Index(['State', 'Monthly Net Income', 'Paycheck Net Income', 'Rent or Own',\n",
       "       'Months at Residence', 'Bank Account Months', 'Pay Cycle',\n",
       "       'Loan Amount', 'First Payment Default12', 'Loan Due Date_Dummy',\n",
       "       'Loan Funded Date_Dummy', 'LoanDays', 'Week_Day',\n",
       "       'Loan Approval Duration (Days)'],\n",
       "      dtype='object')"
      ]
     },
     "execution_count": 26,
     "metadata": {},
     "output_type": "execute_result"
    }
   ],
   "source": [
    "mydata.columns"
   ]
  },
  {
   "cell_type": "markdown",
   "metadata": {},
   "source": [
    "### Lets check correlation plot if there is any higly correlated variables"
   ]
  },
  {
   "cell_type": "code",
   "execution_count": 27,
   "metadata": {
    "scrolled": false
   },
   "outputs": [
    {
     "data": {
      "image/png": "[encoded data removed]",
      "text/plain": [
       "<Figure size 864x576 with 2 Axes>"
      ]
     },
     "metadata": {
      "needs_background": "light"
     },
     "output_type": "display_data"
    }
   ],
   "source": [
    "mydata_corr = mydata[['Monthly Net Income', 'Paycheck Net Income', 'Months at Residence', 'Bank Account Months', \n",
    "       'Loan Amount', 'Loan Due Date_Dummy', 'Loan Funded Date_Dummy', 'LoanDays', 'Loan Approval Duration (Days)']]\n",
    "\n",
    "plt.figure(figsize=(12,8))\n",
    "sns.heatmap(mydata_corr.corr(), annot=True, cmap='YlGnBu')\n",
    "plt.show()"
   ]
  },
  {
   "cell_type": "code",
   "execution_count": 28,
   "metadata": {},
   "outputs": [],
   "source": [
    "#From the Correlation plot, we can see that 'Monthly Net Income' and 'Paycheck Net Income' are higly correlated, so one of them will be dropped.\n",
    "\n",
    "mydata = mydata.drop(['Paycheck Net Income'], axis =1)"
   ]
  },
  {
   "cell_type": "code",
   "execution_count": 29,
   "metadata": {},
   "outputs": [],
   "source": [
    "# 'LoanDays', 'Loan Funded Date_Dummy',and 'Loan Due Date_Dummy' are higly correlated, so 'Loan Funded Date_Dummy'and 'Loan Due Date_Dummy' will be dropped.\n",
    "mydata = mydata.drop(['Loan Due Date_Dummy', 'Loan Funded Date_Dummy'], axis =1)"
   ]
  },
  {
   "cell_type": "code",
   "execution_count": 30,
   "metadata": {},
   "outputs": [
    {
     "data": {
      "text/html": [
       "<div>\n",
       "<style scoped>\n",
       "    .dataframe tbody tr th:only-of-type {\n",
       "        vertical-align: middle;\n",
       "    }\n",
       "\n",
       "    .dataframe tbody tr th {\n",
       "        vertical-align: top;\n",
       "    }\n",
       "\n",
       "    .dataframe thead th {\n",
       "        text-align: right;\n",
       "    }\n",
       "</style>\n",
       "<table border=\"1\" class=\"dataframe\">\n",
       "  <thead>\n",
       "    <tr style=\"text-align: right;\">\n",
       "      <th></th>\n",
       "      <th>State</th>\n",
       "      <th>Monthly Net Income</th>\n",
       "      <th>Rent or Own</th>\n",
       "      <th>Months at Residence</th>\n",
       "      <th>Bank Account Months</th>\n",
       "      <th>Pay Cycle</th>\n",
       "      <th>Loan Amount</th>\n",
       "      <th>First Payment Default12</th>\n",
       "      <th>LoanDays</th>\n",
       "      <th>Week_Day</th>\n",
       "      <th>Loan Approval Duration (Days)</th>\n",
       "    </tr>\n",
       "  </thead>\n",
       "  <tbody>\n",
       "    <tr>\n",
       "      <th>0</th>\n",
       "      <td>CA</td>\n",
       "      <td>2000.0</td>\n",
       "      <td>R</td>\n",
       "      <td>12</td>\n",
       "      <td>6</td>\n",
       "      <td>Monthly</td>\n",
       "      <td>300.00</td>\n",
       "      <td>0</td>\n",
       "      <td>14</td>\n",
       "      <td>Wednesday</td>\n",
       "      <td>0</td>\n",
       "    </tr>\n",
       "    <tr>\n",
       "      <th>1</th>\n",
       "      <td>TX</td>\n",
       "      <td>3500.0</td>\n",
       "      <td>R</td>\n",
       "      <td>60</td>\n",
       "      <td>60</td>\n",
       "      <td>Monthly</td>\n",
       "      <td>641.91</td>\n",
       "      <td>0</td>\n",
       "      <td>14</td>\n",
       "      <td>Friday</td>\n",
       "      <td>0</td>\n",
       "    </tr>\n",
       "    <tr>\n",
       "      <th>2</th>\n",
       "      <td>CA</td>\n",
       "      <td>3000.0</td>\n",
       "      <td>R</td>\n",
       "      <td>0</td>\n",
       "      <td>6</td>\n",
       "      <td>Monthly</td>\n",
       "      <td>117.65</td>\n",
       "      <td>1</td>\n",
       "      <td>30</td>\n",
       "      <td>Wednesday</td>\n",
       "      <td>0</td>\n",
       "    </tr>\n",
       "    <tr>\n",
       "      <th>3</th>\n",
       "      <td>CA</td>\n",
       "      <td>1500.0</td>\n",
       "      <td>R</td>\n",
       "      <td>12</td>\n",
       "      <td>6</td>\n",
       "      <td>Monthly</td>\n",
       "      <td>117.65</td>\n",
       "      <td>0</td>\n",
       "      <td>31</td>\n",
       "      <td>Wednesday</td>\n",
       "      <td>0</td>\n",
       "    </tr>\n",
       "    <tr>\n",
       "      <th>4</th>\n",
       "      <td>CA</td>\n",
       "      <td>2392.0</td>\n",
       "      <td>R</td>\n",
       "      <td>130</td>\n",
       "      <td>36</td>\n",
       "      <td>Weekly</td>\n",
       "      <td>300.00</td>\n",
       "      <td>0</td>\n",
       "      <td>10</td>\n",
       "      <td>Tuesday</td>\n",
       "      <td>0</td>\n",
       "    </tr>\n",
       "  </tbody>\n",
       "</table>\n",
       "</div>"
      ],
      "text/plain": [
       "  State  Monthly Net Income Rent or Own  Months at Residence  \\\n",
       "0    CA              2000.0           R                   12   \n",
       "1    TX              3500.0           R                   60   \n",
       "2    CA              3000.0           R                    0   \n",
       "3    CA              1500.0           R                   12   \n",
       "4    CA              2392.0           R                  130   \n",
       "\n",
       "   Bank Account Months Pay Cycle  Loan Amount  First Payment Default12  \\\n",
       "0                    6   Monthly       300.00                        0   \n",
       "1                   60   Monthly       641.91                        0   \n",
       "2                    6   Monthly       117.65                        1   \n",
       "3                    6   Monthly       117.65                        0   \n",
       "4                   36    Weekly       300.00                        0   \n",
       "\n",
       "   LoanDays   Week_Day  Loan Approval Duration (Days)  \n",
       "0        14  Wednesday                              0  \n",
       "1        14     Friday                              0  \n",
       "2        30  Wednesday                              0  \n",
       "3        31  Wednesday                              0  \n",
       "4        10    Tuesday                              0  "
      ]
     },
     "execution_count": 30,
     "metadata": {},
     "output_type": "execute_result"
    }
   ],
   "source": [
    "mydata.head()"
   ]
  },
  {
   "cell_type": "markdown",
   "metadata": {},
   "source": [
    "### Visualization"
   ]
  },
  {
   "cell_type": "code",
   "execution_count": 31,
   "metadata": {},
   "outputs": [
    {
     "data": {
      "image/png": "[encoded data removed]",
      "text/plain": [
       "<Figure size 1152x432 with 1 Axes>"
      ]
     },
     "metadata": {
      "needs_background": "light"
     },
     "output_type": "display_data"
    }
   ],
   "source": [
    "plt.rcParams[\"figure.figsize\"] = (16,6)\n",
    "\n",
    "vis = pd.crosstab(mydata.Week_Day,mydata['First Payment Default12'])\n",
    "vis.sort_values(by=[1],ascending=False).plot.bar(color=['#9ecae1', 'red']).set_facecolor(\"white\")\n",
    "\n",
    "# plot title \n",
    "plt.title('Payment Default by Week-Days in Decending Order [True : Red]')\n",
    "plt.ylabel('Count')\n",
    "plt.xticks(rotation='horizontal')\n",
    "plt.show()"
   ]
  },
  {
   "cell_type": "markdown",
   "metadata": {},
   "source": [
    "| 0 | 1 |\n",
    "|-|-|\n",
    "| Default False | Default True |"
   ]
  },
  {
   "cell_type": "markdown",
   "metadata": {},
   "source": [
    "From the plot we can see that the loan applications on Monday has the highest Default followed by Thursday."
   ]
  },
  {
   "cell_type": "code",
   "execution_count": 32,
   "metadata": {},
   "outputs": [
    {
     "data": {
      "image/png": "[encoded data removed]",
      "text/plain": [
       "<Figure size 720x432 with 1 Axes>"
      ]
     },
     "metadata": {
      "needs_background": "light"
     },
     "output_type": "display_data"
    }
   ],
   "source": [
    "plt.rcParams[\"figure.figsize\"] = (10,6)\n",
    "vis = pd.crosstab(mydata.State,mydata['First Payment Default12'])\n",
    "vis.sort_values(by=[1],ascending=False).plot.bar(color=['#a1d99b', 'red']).set_facecolor(\"white\")\n",
    "\n",
    "# plot title \n",
    "plt.title('Payment Default by State')\n",
    "plt.xticks(rotation='horizontal')\n",
    "plt.ylabel('Count')\n",
    "plt.show()"
   ]
  },
  {
   "cell_type": "markdown",
   "metadata": {},
   "source": [
    "| 0 | 1 |\n",
    "|-|-|\n",
    "| Default False | Default True |"
   ]
  },
  {
   "cell_type": "markdown",
   "metadata": {},
   "source": [
    "From the plot we can see that the default rate is high for the application from Texas."
   ]
  },
  {
   "cell_type": "code",
   "execution_count": 33,
   "metadata": {},
   "outputs": [
    {
     "data": {
      "image/png": "[encoded data removed]",
      "text/plain": [
       "<Figure size 1152x432 with 1 Axes>"
      ]
     },
     "metadata": {
      "needs_background": "light"
     },
     "output_type": "display_data"
    }
   ],
   "source": [
    "plt.rcParams[\"figure.figsize\"] = (16,6)\n",
    "vis = pd.crosstab(mydata['Pay Cycle'],mydata['First Payment Default12'])\n",
    "vis.sort_values(by=[1],ascending=False).plot.bar(color=['#bcbddc', 'red']).set_facecolor(\"white\")\n",
    "\n",
    "# plot title \n",
    "plt.title('Payment Default by Pay Cycle')\n",
    "plt.xticks(rotation='horizontal')\n",
    "plt.ylabel('Count')\n",
    "plt.show()\n"
   ]
  },
  {
   "cell_type": "markdown",
   "metadata": {},
   "source": [
    "| 0 | 1 |\n",
    "|-|-|\n",
    "| Default False | Default True |"
   ]
  },
  {
   "cell_type": "markdown",
   "metadata": {},
   "source": [
    "From the plot we can see that the biggest portion of the default loan is for the Bi-weekly Pay Cycle, followed by Monthly pay Cycle"
   ]
  },
  {
   "cell_type": "code",
   "execution_count": 34,
   "metadata": {},
   "outputs": [
    {
     "data": {
      "image/png": "[encoded data removed]",
      "text/plain": [
       "<Figure size 1152x432 with 1 Axes>"
      ]
     },
     "metadata": {
      "needs_background": "light"
     },
     "output_type": "display_data"
    }
   ],
   "source": [
    "plt.rcParams[\"figure.figsize\"] = (16,6)\n",
    "vis = pd.crosstab(mydata['Rent or Own'],mydata['First Payment Default12'])\n",
    "vis.sort_values(by=[1],ascending=False).plot.bar(color=['#c994c7', 'red']).set_facecolor(\"white\")\n",
    "\n",
    "# plot title \n",
    "plt.title('Payment Default by \"Rent or Own\"')\n",
    "plt.xticks(rotation='horizontal')\n",
    "plt.ylabel('Count')\n",
    "plt.show()"
   ]
  },
  {
   "cell_type": "markdown",
   "metadata": {},
   "source": [
    "| 0 | 1 |\n",
    "|-|-|\n",
    "| Default False | Default True |"
   ]
  },
  {
   "cell_type": "markdown",
   "metadata": {},
   "source": [
    "From the plot we can see that the most of the loan that are default are for Rent"
   ]
  },
  {
   "cell_type": "code",
   "execution_count": 35,
   "metadata": {},
   "outputs": [
    {
     "data": {
      "image/png": "[encoded data removed]",
      "text/plain": [
       "<Figure size 1152x720 with 1 Axes>"
      ]
     },
     "metadata": {
      "needs_background": "light"
     },
     "output_type": "display_data"
    }
   ],
   "source": [
    "plt.rcParams[\"figure.figsize\"] = (16,10)\n",
    "vis = pd.crosstab(mydata['Loan Approval Duration (Days)'],mydata['First Payment Default12'])\n",
    "vis.plot.bar(color=['#bdbdbd', 'red']).set_facecolor(\"white\")\n",
    "\n",
    "# plot title \n",
    "plt.title('Payment Default by \"Loan Approval Duration (Days)\"')\n",
    "plt.xticks(rotation='horizontal')\n",
    "plt.ylabel('Count')\n",
    "plt.show()"
   ]
  },
  {
   "cell_type": "markdown",
   "metadata": {},
   "source": [
    "| 0 | 1 |\n",
    "|-|-|\n",
    "| Default False | Default True |"
   ]
  },
  {
   "cell_type": "markdown",
   "metadata": {},
   "source": [
    "From the plot, we can see that big portion of the loan application is approved on the same day. \n",
    "\n"
   ]
  },
  {
   "cell_type": "code",
   "execution_count": 36,
   "metadata": {},
   "outputs": [
    {
     "data": {
      "text/plain": [
       "0     1311\n",
       "1      161\n",
       "2       44\n",
       "3       26\n",
       "4       24\n",
       "6       14\n",
       "5       14\n",
       "15       1\n",
       "14       1\n",
       "11       1\n",
       "9        1\n",
       "8        1\n",
       "7        1\n",
       "Name: Loan Approval Duration (Days), dtype: int64"
      ]
     },
     "execution_count": 36,
     "metadata": {},
     "output_type": "execute_result"
    }
   ],
   "source": [
    "mydata['Loan Approval Duration (Days)'].value_counts()"
   ]
  },
  {
   "cell_type": "markdown",
   "metadata": {},
   "source": [
    "### Label Encoding and One Hot Encoding"
   ]
  },
  {
   "cell_type": "code",
   "execution_count": 37,
   "metadata": {},
   "outputs": [],
   "source": [
    "from sklearn.preprocessing import LabelEncoder, OneHotEncoder"
   ]
  },
  {
   "cell_type": "code",
   "execution_count": 38,
   "metadata": {},
   "outputs": [],
   "source": [
    "LE_V1 = LabelEncoder()\n",
    "mydata['State']=LE_V1.fit_transform(mydata['State'])"
   ]
  },
  {
   "cell_type": "code",
   "execution_count": 39,
   "metadata": {},
   "outputs": [],
   "source": [
    "LE_V2 = LabelEncoder()\n",
    "mydata['Rent or Own'] = LE_V2.fit_transform(mydata['Rent or Own'])"
   ]
  },
  {
   "cell_type": "code",
   "execution_count": 40,
   "metadata": {},
   "outputs": [],
   "source": [
    "mydata = pd.get_dummies(mydata, columns = ['Pay Cycle', 'Week_Day'], prefix = [ 'Pay Cycle', ''])"
   ]
  },
  {
   "cell_type": "code",
   "execution_count": 41,
   "metadata": {},
   "outputs": [
    {
     "data": {
      "text/html": [
       "<div>\n",
       "<style scoped>\n",
       "    .dataframe tbody tr th:only-of-type {\n",
       "        vertical-align: middle;\n",
       "    }\n",
       "\n",
       "    .dataframe tbody tr th {\n",
       "        vertical-align: top;\n",
       "    }\n",
       "\n",
       "    .dataframe thead th {\n",
       "        text-align: right;\n",
       "    }\n",
       "</style>\n",
       "<table border=\"1\" class=\"dataframe\">\n",
       "  <thead>\n",
       "    <tr style=\"text-align: right;\">\n",
       "      <th></th>\n",
       "      <th>State</th>\n",
       "      <th>Monthly Net Income</th>\n",
       "      <th>Rent or Own</th>\n",
       "      <th>Months at Residence</th>\n",
       "      <th>Bank Account Months</th>\n",
       "      <th>Loan Amount</th>\n",
       "      <th>First Payment Default12</th>\n",
       "      <th>LoanDays</th>\n",
       "      <th>Loan Approval Duration (Days)</th>\n",
       "      <th>Pay Cycle_BiMonthly</th>\n",
       "      <th>Pay Cycle_BiWeekly</th>\n",
       "      <th>Pay Cycle_Monthly</th>\n",
       "      <th>Pay Cycle_Weekly</th>\n",
       "      <th>_Friday</th>\n",
       "      <th>_Monday</th>\n",
       "      <th>_Saturday</th>\n",
       "      <th>_Sunday</th>\n",
       "      <th>_Thursday</th>\n",
       "      <th>_Tuesday</th>\n",
       "      <th>_Wednesday</th>\n",
       "    </tr>\n",
       "  </thead>\n",
       "  <tbody>\n",
       "    <tr>\n",
       "      <th>0</th>\n",
       "      <td>0</td>\n",
       "      <td>2000.0</td>\n",
       "      <td>1</td>\n",
       "      <td>12</td>\n",
       "      <td>6</td>\n",
       "      <td>300.00</td>\n",
       "      <td>0</td>\n",
       "      <td>14</td>\n",
       "      <td>0</td>\n",
       "      <td>0</td>\n",
       "      <td>0</td>\n",
       "      <td>1</td>\n",
       "      <td>0</td>\n",
       "      <td>0</td>\n",
       "      <td>0</td>\n",
       "      <td>0</td>\n",
       "      <td>0</td>\n",
       "      <td>0</td>\n",
       "      <td>0</td>\n",
       "      <td>1</td>\n",
       "    </tr>\n",
       "    <tr>\n",
       "      <th>1</th>\n",
       "      <td>1</td>\n",
       "      <td>3500.0</td>\n",
       "      <td>1</td>\n",
       "      <td>60</td>\n",
       "      <td>60</td>\n",
       "      <td>641.91</td>\n",
       "      <td>0</td>\n",
       "      <td>14</td>\n",
       "      <td>0</td>\n",
       "      <td>0</td>\n",
       "      <td>0</td>\n",
       "      <td>1</td>\n",
       "      <td>0</td>\n",
       "      <td>1</td>\n",
       "      <td>0</td>\n",
       "      <td>0</td>\n",
       "      <td>0</td>\n",
       "      <td>0</td>\n",
       "      <td>0</td>\n",
       "      <td>0</td>\n",
       "    </tr>\n",
       "    <tr>\n",
       "      <th>2</th>\n",
       "      <td>0</td>\n",
       "      <td>3000.0</td>\n",
       "      <td>1</td>\n",
       "      <td>0</td>\n",
       "      <td>6</td>\n",
       "      <td>117.65</td>\n",
       "      <td>1</td>\n",
       "      <td>30</td>\n",
       "      <td>0</td>\n",
       "      <td>0</td>\n",
       "      <td>0</td>\n",
       "      <td>1</td>\n",
       "      <td>0</td>\n",
       "      <td>0</td>\n",
       "      <td>0</td>\n",
       "      <td>0</td>\n",
       "      <td>0</td>\n",
       "      <td>0</td>\n",
       "      <td>0</td>\n",
       "      <td>1</td>\n",
       "    </tr>\n",
       "    <tr>\n",
       "      <th>3</th>\n",
       "      <td>0</td>\n",
       "      <td>1500.0</td>\n",
       "      <td>1</td>\n",
       "      <td>12</td>\n",
       "      <td>6</td>\n",
       "      <td>117.65</td>\n",
       "      <td>0</td>\n",
       "      <td>31</td>\n",
       "      <td>0</td>\n",
       "      <td>0</td>\n",
       "      <td>0</td>\n",
       "      <td>1</td>\n",
       "      <td>0</td>\n",
       "      <td>0</td>\n",
       "      <td>0</td>\n",
       "      <td>0</td>\n",
       "      <td>0</td>\n",
       "      <td>0</td>\n",
       "      <td>0</td>\n",
       "      <td>1</td>\n",
       "    </tr>\n",
       "    <tr>\n",
       "      <th>4</th>\n",
       "      <td>0</td>\n",
       "      <td>2392.0</td>\n",
       "      <td>1</td>\n",
       "      <td>130</td>\n",
       "      <td>36</td>\n",
       "      <td>300.00</td>\n",
       "      <td>0</td>\n",
       "      <td>10</td>\n",
       "      <td>0</td>\n",
       "      <td>0</td>\n",
       "      <td>0</td>\n",
       "      <td>0</td>\n",
       "      <td>1</td>\n",
       "      <td>0</td>\n",
       "      <td>0</td>\n",
       "      <td>0</td>\n",
       "      <td>0</td>\n",
       "      <td>0</td>\n",
       "      <td>1</td>\n",
       "      <td>0</td>\n",
       "    </tr>\n",
       "  </tbody>\n",
       "</table>\n",
       "</div>"
      ],
      "text/plain": [
       "   State  Monthly Net Income  Rent or Own  Months at Residence  \\\n",
       "0      0              2000.0            1                   12   \n",
       "1      1              3500.0            1                   60   \n",
       "2      0              3000.0            1                    0   \n",
       "3      0              1500.0            1                   12   \n",
       "4      0              2392.0            1                  130   \n",
       "\n",
       "   Bank Account Months  Loan Amount  First Payment Default12  LoanDays  \\\n",
       "0                    6       300.00                        0        14   \n",
       "1                   60       641.91                        0        14   \n",
       "2                    6       117.65                        1        30   \n",
       "3                    6       117.65                        0        31   \n",
       "4                   36       300.00                        0        10   \n",
       "\n",
       "   Loan Approval Duration (Days)  Pay Cycle_BiMonthly  Pay Cycle_BiWeekly  \\\n",
       "0                              0                    0                   0   \n",
       "1                              0                    0                   0   \n",
       "2                              0                    0                   0   \n",
       "3                              0                    0                   0   \n",
       "4                              0                    0                   0   \n",
       "\n",
       "   Pay Cycle_Monthly  Pay Cycle_Weekly  _Friday  _Monday  _Saturday  _Sunday  \\\n",
       "0                  1                 0        0        0          0        0   \n",
       "1                  1                 0        1        0          0        0   \n",
       "2                  1                 0        0        0          0        0   \n",
       "3                  1                 0        0        0          0        0   \n",
       "4                  0                 1        0        0          0        0   \n",
       "\n",
       "   _Thursday  _Tuesday  _Wednesday  \n",
       "0          0         0           1  \n",
       "1          0         0           0  \n",
       "2          0         0           1  \n",
       "3          0         0           1  \n",
       "4          0         1           0  "
      ]
     },
     "execution_count": 41,
     "metadata": {},
     "output_type": "execute_result"
    }
   ],
   "source": [
    "mydata = pd.DataFrame(mydata)\n",
    "mydata.head()"
   ]
  },
  {
   "cell_type": "markdown",
   "metadata": {},
   "source": [
    "### Checking Class Imbalance"
   ]
  },
  {
   "cell_type": "code",
   "execution_count": 42,
   "metadata": {},
   "outputs": [
    {
     "data": {
      "text/plain": [
       "0    1175\n",
       "1     425\n",
       "Name: First Payment Default12, dtype: int64"
      ]
     },
     "execution_count": 42,
     "metadata": {},
     "output_type": "execute_result"
    }
   ],
   "source": [
    "mydata['First Payment Default12'].value_counts()"
   ]
  },
  {
   "cell_type": "code",
   "execution_count": 43,
   "metadata": {
    "scrolled": false
   },
   "outputs": [
    {
     "data": {
      "image/png": "[encoded data removed]",
      "text/plain": [
       "<Figure size 1152x432 with 1 Axes>"
      ]
     },
     "metadata": {},
     "output_type": "display_data"
    }
   ],
   "source": [
    "plt.rcParams[\"figure.figsize\"] = (16,6)\n",
    "plt.title('Checking Class Imbalance')\n",
    "exp_labels = ['False', 'True']\n",
    "mydata['First Payment Default12'].value_counts().plot.pie(labels=exp_labels,colors = ['#9ebcda', 'red'], radius = 1.25,shadow=True, autopct = '%0.1f%%',explode =[0, 0.1])\n",
    "plt.ylabel('')\n",
    "plt.show()"
   ]
  },
  {
   "cell_type": "markdown",
   "metadata": {},
   "source": [
    "The Pie Plot illustrates that there is class imbalance. So, we need to stratify the data."
   ]
  },
  {
   "cell_type": "markdown",
   "metadata": {},
   "source": [
    "### Train Test Split "
   ]
  },
  {
   "cell_type": "code",
   "execution_count": 44,
   "metadata": {},
   "outputs": [
    {
     "data": {
      "text/plain": [
       "Index(['State', 'Monthly Net Income', 'Rent or Own', 'Months at Residence',\n",
       "       'Bank Account Months', 'Loan Amount', 'First Payment Default12',\n",
       "       'LoanDays', 'Loan Approval Duration (Days)', 'Pay Cycle_BiMonthly',\n",
       "       'Pay Cycle_BiWeekly', 'Pay Cycle_Monthly', 'Pay Cycle_Weekly',\n",
       "       '_Friday', '_Monday', '_Saturday', '_Sunday', '_Thursday', '_Tuesday',\n",
       "       '_Wednesday'],\n",
       "      dtype='object')"
      ]
     },
     "execution_count": 44,
     "metadata": {},
     "output_type": "execute_result"
    }
   ],
   "source": [
    "mydata.columns"
   ]
  },
  {
   "cell_type": "code",
   "execution_count": 45,
   "metadata": {},
   "outputs": [],
   "source": [
    "X = mydata[['State', 'Monthly Net Income', 'Rent or Own', 'Months at Residence',\n",
    "       'Bank Account Months', 'Loan Amount', \n",
    "       'LoanDays', 'Loan Approval Duration (Days)', 'Pay Cycle_BiMonthly',\n",
    "       'Pay Cycle_BiWeekly', 'Pay Cycle_Monthly', 'Pay Cycle_Weekly',\n",
    "       '_Friday', '_Monday', '_Saturday', '_Sunday', '_Thursday', '_Tuesday',\n",
    "       '_Wednesday']]\n",
    "\n",
    "Y = mydata['First Payment Default12']"
   ]
  },
  {
   "cell_type": "code",
   "execution_count": 46,
   "metadata": {},
   "outputs": [],
   "source": [
    "from sklearn.model_selection import train_test_split\n",
    "\n",
    "X_train, X_valid, y_train, y_valid = train_test_split(X, Y, stratify= Y,shuffle=True, test_size=0.2, random_state=42)"
   ]
  },
  {
   "cell_type": "code",
   "execution_count": 47,
   "metadata": {},
   "outputs": [
    {
     "data": {
      "text/plain": [
       "0    235\n",
       "1     85\n",
       "Name: First Payment Default12, dtype: int64"
      ]
     },
     "execution_count": 47,
     "metadata": {},
     "output_type": "execute_result"
    }
   ],
   "source": [
    "y_valid.value_counts()"
   ]
  },
  {
   "cell_type": "code",
   "execution_count": 48,
   "metadata": {},
   "outputs": [
    {
     "data": {
      "text/plain": [
       "0    940\n",
       "1    340\n",
       "Name: First Payment Default12, dtype: int64"
      ]
     },
     "execution_count": 48,
     "metadata": {},
     "output_type": "execute_result"
    }
   ],
   "source": [
    "y_train.value_counts()"
   ]
  },
  {
   "cell_type": "code",
   "execution_count": 49,
   "metadata": {},
   "outputs": [
    {
     "data": {
      "image/png": "[encoded data removed]",
      "text/plain": [
       "<Figure size 1152x432 with 2 Axes>"
      ]
     },
     "metadata": {},
     "output_type": "display_data"
    }
   ],
   "source": [
    "plt.rcParams[\"figure.figsize\"] = (16,6)\n",
    "\n",
    "\n",
    "exp_labels = ['False', 'True']\n",
    "#plt.title('Distribution of Labels in the Train and Validation Data after Splitting', y=1.05, fontsize=18)\n",
    "plt.subplot(1,2,1)\n",
    "y_train.value_counts().plot.pie(labels=exp_labels,colors = ['#99d8c9', 'red'],  radius = 1.25,shadow=True, autopct = '%0.1f%%',explode =[0, 0.1])\n",
    "plt.xlabel('Train Data', fontsize=26)\n",
    "plt.ylabel('')\n",
    "#plt.suptitle('Train Data')\n",
    "\n",
    "plt.subplot(1,2,2)\n",
    "y_valid.value_counts().plot.pie(labels=exp_labels,colors = ['#9ebcda', 'red'], radius = 1.25,shadow=True, autopct = '%0.1f%%',explode =[0, 0.1])\n",
    "plt.xlabel('Validation Data', fontsize=26)\n",
    "plt.ylabel('')\n",
    "\n",
    "#plt.suptitle('Train Data','Validation Data')\n",
    "#plt.xlabel('Train Data')\n",
    "\n",
    "plt.show()"
   ]
  },
  {
   "cell_type": "markdown",
   "metadata": {},
   "source": [
    "|Distribution of Labels in the Train and Validation Data after Splitting|\n",
    "|-|"
   ]
  },
  {
   "cell_type": "markdown",
   "metadata": {},
   "source": [
    "## Machine Learning Models"
   ]
  },
  {
   "cell_type": "markdown",
   "metadata": {},
   "source": [
    "### Logistic Regression"
   ]
  },
  {
   "cell_type": "code",
   "execution_count": 50,
   "metadata": {},
   "outputs": [],
   "source": [
    "from sklearn.linear_model import LogisticRegression\n",
    "from sklearn.metrics import accuracy_score\n",
    "from sklearn.metrics import classification_report, confusion_matrix"
   ]
  },
  {
   "cell_type": "code",
   "execution_count": 51,
   "metadata": {},
   "outputs": [],
   "source": [
    "lr_model = LogisticRegression(solver ='liblinear')"
   ]
  },
  {
   "cell_type": "code",
   "execution_count": 52,
   "metadata": {},
   "outputs": [
    {
     "data": {
      "text/plain": [
       "LogisticRegression(C=1.0, class_weight=None, dual=False, fit_intercept=True,\n",
       "          intercept_scaling=1, max_iter=100, multi_class='warn',\n",
       "          n_jobs=None, penalty='l2', random_state=None, solver='liblinear',\n",
       "          tol=0.0001, verbose=0, warm_start=False)"
      ]
     },
     "execution_count": 52,
     "metadata": {},
     "output_type": "execute_result"
    }
   ],
   "source": [
    "lr_model.fit(X_train, y_train)"
   ]
  },
  {
   "cell_type": "code",
   "execution_count": 53,
   "metadata": {},
   "outputs": [
    {
     "name": "stdout",
     "output_type": "stream",
     "text": [
      "[[ 1.50077070e-01  3.77168258e-05 -3.98048729e-01 -1.48661387e-03\n",
      "  -3.21588384e-03  1.17982332e-03  1.68204990e-02  1.09654458e-01\n",
      "  -4.08268543e-01  9.26093608e-03 -2.96345537e-01 -3.91023598e-01\n",
      "   4.11452702e-01 -2.28944294e-01 -3.75835149e-01 -2.43345316e-01\n",
      "   1.73954517e-02 -1.77601098e-01 -4.89499039e-01]]\n"
     ]
    }
   ],
   "source": [
    "print(lr_model.coef_)"
   ]
  },
  {
   "cell_type": "code",
   "execution_count": 54,
   "metadata": {},
   "outputs": [
    {
     "name": "stdout",
     "output_type": "stream",
     "text": [
      "[-1.08637674]\n"
     ]
    }
   ],
   "source": [
    "print(lr_model.intercept_)"
   ]
  },
  {
   "cell_type": "code",
   "execution_count": 55,
   "metadata": {},
   "outputs": [],
   "source": [
    "y_pred = lr_model.predict(X_valid)"
   ]
  },
  {
   "cell_type": "code",
   "execution_count": 56,
   "metadata": {},
   "outputs": [
    {
     "name": "stdout",
     "output_type": "stream",
     "text": [
      "[[231   4]\n",
      " [ 82   3]]\n"
     ]
    }
   ],
   "source": [
    "print(confusion_matrix(y_valid,y_pred))  "
   ]
  },
  {
   "cell_type": "code",
   "execution_count": 57,
   "metadata": {},
   "outputs": [
    {
     "name": "stdout",
     "output_type": "stream",
     "text": [
      "              precision    recall  f1-score   support\n",
      "\n",
      "           0       0.74      0.98      0.84       235\n",
      "           1       0.43      0.04      0.07        85\n",
      "\n",
      "   micro avg       0.73      0.73      0.73       320\n",
      "   macro avg       0.58      0.51      0.45       320\n",
      "weighted avg       0.66      0.73      0.64       320\n",
      "\n"
     ]
    }
   ],
   "source": [
    "print(classification_report(y_valid,y_pred))"
   ]
  },
  {
   "cell_type": "code",
   "execution_count": 58,
   "metadata": {},
   "outputs": [
    {
     "name": "stdout",
     "output_type": "stream",
     "text": [
      "The accuracy of the Logistic Regression on the validation data set  is: 0.73125\n"
     ]
    }
   ],
   "source": [
    "lr_ac = accuracy_score(y_valid, y_pred)\n",
    "print (\"The accuracy of the Logistic Regression on the validation data set  is:\", lr_ac)"
   ]
  },
  {
   "cell_type": "markdown",
   "metadata": {},
   "source": [
    "### Decision Tree"
   ]
  },
  {
   "cell_type": "code",
   "execution_count": 59,
   "metadata": {},
   "outputs": [],
   "source": [
    "from sklearn.tree import DecisionTreeClassifier\n",
    "from sklearn.model_selection import GridSearchCV\n",
    "\n",
    "model = DecisionTreeClassifier(criterion='gini', splitter='best')"
   ]
  },
  {
   "cell_type": "code",
   "execution_count": 60,
   "metadata": {},
   "outputs": [],
   "source": [
    "params = {'max_features': ['auto', 'sqrt', 'log2'],\n",
    "          'min_samples_split': [2,3,4,5,6,7,8,9,10,11,12,13,14,15], \n",
    "          'min_samples_leaf':[1,2,3,4,5,6,7,8,9,10,11],\n",
    "          'random_state':[123]}\n",
    "\n",
    "#Making models with hyper parameters sets\n",
    "tc_model = GridSearchCV(model, param_grid=params, n_jobs=-1)"
   ]
  },
  {
   "cell_type": "code",
   "execution_count": 61,
   "metadata": {},
   "outputs": [
    {
     "name": "stderr",
     "output_type": "stream",
     "text": [
      "C:\\Users\\PrakashAdhikari\\Documents\\temp\\lib\\site-packages\\sklearn\\model_selection\\_split.py:2053: FutureWarning: You should specify a value for 'cv' instead of relying on the default value. The default value will change from 3 to 5 in version 0.22.\n",
      "  warnings.warn(CV_WARNING, FutureWarning)\n"
     ]
    },
    {
     "data": {
      "text/plain": [
       "GridSearchCV(cv='warn', error_score='raise-deprecating',\n",
       "       estimator=DecisionTreeClassifier(class_weight=None, criterion='gini', max_depth=None,\n",
       "            max_features=None, max_leaf_nodes=None,\n",
       "            min_impurity_decrease=0.0, min_impurity_split=None,\n",
       "            min_samples_leaf=1, min_samples_split=2,\n",
       "            min_weight_fraction_leaf=0.0, presort=False, random_state=None,\n",
       "            splitter='best'),\n",
       "       fit_params=None, iid='warn', n_jobs=-1,\n",
       "       param_grid={'max_features': ['auto', 'sqrt', 'log2'], 'min_samples_split': [2, 3, 4, 5, 6, 7, 8, 9, 10, 11, 12, 13, 14, 15], 'min_samples_leaf': [1, 2, 3, 4, 5, 6, 7, 8, 9, 10, 11], 'random_state': [123]},\n",
       "       pre_dispatch='2*n_jobs', refit=True, return_train_score='warn',\n",
       "       scoring=None, verbose=0)"
      ]
     },
     "execution_count": 61,
     "metadata": {},
     "output_type": "execute_result"
    }
   ],
   "source": [
    "tc_model.fit(X_train,y_train)"
   ]
  },
  {
   "cell_type": "code",
   "execution_count": 62,
   "metadata": {},
   "outputs": [
    {
     "name": "stdout",
     "output_type": "stream",
     "text": [
      "Best Hyper Parameters: {'max_features': 'auto', 'min_samples_leaf': 11, 'min_samples_split': 2, 'random_state': 123}\n"
     ]
    }
   ],
   "source": [
    "#The best hyper parameters set\n",
    "print(\"Best Hyper Parameters:\",tc_model.best_params_)"
   ]
  },
  {
   "cell_type": "code",
   "execution_count": 63,
   "metadata": {},
   "outputs": [],
   "source": [
    "#Prediction\n",
    "y_pred = tc_model.predict(X_valid)"
   ]
  },
  {
   "cell_type": "code",
   "execution_count": 64,
   "metadata": {},
   "outputs": [
    {
     "name": "stdout",
     "output_type": "stream",
     "text": [
      "[[215  20]\n",
      " [ 68  17]]\n"
     ]
    }
   ],
   "source": [
    "print(confusion_matrix(y_valid,y_pred))  "
   ]
  },
  {
   "cell_type": "code",
   "execution_count": 65,
   "metadata": {},
   "outputs": [
    {
     "name": "stdout",
     "output_type": "stream",
     "text": [
      "              precision    recall  f1-score   support\n",
      "\n",
      "           0       0.76      0.91      0.83       235\n",
      "           1       0.46      0.20      0.28        85\n",
      "\n",
      "   micro avg       0.72      0.72      0.73       320\n",
      "   macro avg       0.61      0.56      0.55       320\n",
      "weighted avg       0.68      0.72      0.68       320\n",
      "\n"
     ]
    }
   ],
   "source": [
    "print(classification_report(y_valid,y_pred))"
   ]
  },
  {
   "cell_type": "code",
   "execution_count": 66,
   "metadata": {},
   "outputs": [
    {
     "name": "stdout",
     "output_type": "stream",
     "text": [
      "The accuracy of the Decision Tree Classifier on the validation data set  is: 0.725\n"
     ]
    }
   ],
   "source": [
    "tc_ac = accuracy_score(y_valid, y_pred)\n",
    "print (\"The accuracy of the Decision Tree Classifier on the validation data set  is:\", tc_ac)"
   ]
  },
  {
   "cell_type": "code",
   "execution_count": 67,
   "metadata": {},
   "outputs": [
    {
     "data": {
      "text/plain": [
       "DecisionTreeClassifier(class_weight=None, criterion='gini', max_depth=None,\n",
       "            max_features='auto', max_leaf_nodes=None,\n",
       "            min_impurity_decrease=0.0, min_impurity_split=None,\n",
       "            min_samples_leaf=11, min_samples_split=2,\n",
       "            min_weight_fraction_leaf=0.0, presort=False, random_state=123,\n",
       "            splitter='best')"
      ]
     },
     "execution_count": 67,
     "metadata": {},
     "output_type": "execute_result"
    }
   ],
   "source": [
    "best_grid = tc_model.best_estimator_\n",
    "best_grid"
   ]
  },
  {
   "cell_type": "code",
   "execution_count": 68,
   "metadata": {},
   "outputs": [
    {
     "data": {
      "image/png": "[encoded data removed]",
      "text/plain": [
       "<Figure size 1152x576 with 1 Axes>"
      ]
     },
     "metadata": {
      "needs_background": "light"
     },
     "output_type": "display_data"
    }
   ],
   "source": [
    "plt.title('Important Variables for Decision Tree Classifier')\n",
    "feat_importances = pd.Series(best_grid.feature_importances_, index=X_train.columns)\n",
    "feat_importances.nlargest(15).sort_values(ascending=True).plot(kind='barh', figsize = (16,8)).set_facecolor(\"white\")"
   ]
  },
  {
   "cell_type": "markdown",
   "metadata": {},
   "source": [
    "### Random Forest Classifier"
   ]
  },
  {
   "cell_type": "code",
   "execution_count": 69,
   "metadata": {},
   "outputs": [],
   "source": [
    "from sklearn.ensemble import RandomForestClassifier"
   ]
  },
  {
   "cell_type": "code",
   "execution_count": 70,
   "metadata": {},
   "outputs": [],
   "source": [
    "# Create the parameter grid based on the results of random search \n",
    "param_grid = {\n",
    "    'criterion':['gini','entropy'],\n",
    "    'bootstrap': [True],\n",
    "    'max_depth': [80, 90, 100, 110],\n",
    "    'max_features': [2, 3],\n",
    "    'min_samples_leaf': [3, 4, 5, 6],\n",
    "    'min_samples_split': [8, 10, 12, 14],\n",
    "    'n_estimators': [100, 200, 300, 1000],\n",
    "    'random_state':[123],\n",
    "    'n_jobs':[-1]\n",
    "            }"
   ]
  },
  {
   "cell_type": "code",
   "execution_count": 71,
   "metadata": {},
   "outputs": [],
   "source": [
    "# Create a based model\n",
    "rf = RandomForestClassifier()"
   ]
  },
  {
   "cell_type": "code",
   "execution_count": 72,
   "metadata": {},
   "outputs": [],
   "source": [
    "# Instantiate the grid search model\n",
    "grid_search = GridSearchCV(estimator = rf, param_grid = param_grid, \n",
    "                          cv = 3, n_jobs = -1, verbose = 2)"
   ]
  },
  {
   "cell_type": "code",
   "execution_count": 73,
   "metadata": {},
   "outputs": [
    {
     "name": "stdout",
     "output_type": "stream",
     "text": [
      "Fitting 3 folds for each of 1024 candidates, totalling 3072 fits\n"
     ]
    },
    {
     "name": "stderr",
     "output_type": "stream",
     "text": [
      "[Parallel(n_jobs=-1)]: Using backend LokyBackend with 8 concurrent workers.\n",
      "[Parallel(n_jobs=-1)]: Done  25 tasks      | elapsed:    5.4s\n",
      "[Parallel(n_jobs=-1)]: Done 146 tasks      | elapsed:   35.0s\n",
      "[Parallel(n_jobs=-1)]: Done 349 tasks      | elapsed:  1.4min\n",
      "[Parallel(n_jobs=-1)]: Done 632 tasks      | elapsed:  2.6min\n",
      "[Parallel(n_jobs=-1)]: Done 997 tasks      | elapsed:  4.2min\n",
      "[Parallel(n_jobs=-1)]: Done 1442 tasks      | elapsed:  6.2min\n",
      "[Parallel(n_jobs=-1)]: Done 1969 tasks      | elapsed:  8.4min\n",
      "[Parallel(n_jobs=-1)]: Done 2576 tasks      | elapsed: 10.9min\n",
      "[Parallel(n_jobs=-1)]: Done 3072 out of 3072 | elapsed: 12.8min finished\n"
     ]
    },
    {
     "data": {
      "text/plain": [
       "GridSearchCV(cv=3, error_score='raise-deprecating',\n",
       "       estimator=RandomForestClassifier(bootstrap=True, class_weight=None, criterion='gini',\n",
       "            max_depth=None, max_features='auto', max_leaf_nodes=None,\n",
       "            min_impurity_decrease=0.0, min_impurity_split=None,\n",
       "            min_samples_leaf=1, min_samples_split=2,\n",
       "            min_weight_fraction_leaf=0.0, n_estimators='warn', n_jobs=None,\n",
       "            oob_score=False, random_state=None, verbose=0,\n",
       "            warm_start=False),\n",
       "       fit_params=None, iid='warn', n_jobs=-1,\n",
       "       param_grid={'criterion': ['gini', 'entropy'], 'bootstrap': [True], 'max_depth': [80, 90, 100, 110], 'max_features': [2, 3], 'min_samples_leaf': [3, 4, 5, 6], 'min_samples_split': [8, 10, 12, 14], 'n_estimators': [100, 200, 300, 1000], 'random_state': [123], 'n_jobs': [-1]},\n",
       "       pre_dispatch='2*n_jobs', refit=True, return_train_score='warn',\n",
       "       scoring=None, verbose=2)"
      ]
     },
     "execution_count": 73,
     "metadata": {},
     "output_type": "execute_result"
    }
   ],
   "source": [
    "# Fit the grid search to the data\n",
    "grid_search.fit(X_train, y_train)"
   ]
  },
  {
   "cell_type": "code",
   "execution_count": 74,
   "metadata": {},
   "outputs": [
    {
     "data": {
      "text/plain": [
       "{'bootstrap': True,\n",
       " 'criterion': 'gini',\n",
       " 'max_depth': 80,\n",
       " 'max_features': 3,\n",
       " 'min_samples_leaf': 6,\n",
       " 'min_samples_split': 14,\n",
       " 'n_estimators': 1000,\n",
       " 'n_jobs': -1,\n",
       " 'random_state': 123}"
      ]
     },
     "execution_count": 74,
     "metadata": {},
     "output_type": "execute_result"
    }
   ],
   "source": [
    "grid_search.best_params_"
   ]
  },
  {
   "cell_type": "code",
   "execution_count": 75,
   "metadata": {},
   "outputs": [],
   "source": [
    "y_pred = grid_search.predict(X_valid)"
   ]
  },
  {
   "cell_type": "code",
   "execution_count": 76,
   "metadata": {},
   "outputs": [
    {
     "name": "stdout",
     "output_type": "stream",
     "text": [
      "[[234   1]\n",
      " [ 75  10]]\n"
     ]
    }
   ],
   "source": [
    "print(confusion_matrix(y_valid,y_pred))  "
   ]
  },
  {
   "cell_type": "code",
   "execution_count": 77,
   "metadata": {},
   "outputs": [
    {
     "name": "stdout",
     "output_type": "stream",
     "text": [
      "              precision    recall  f1-score   support\n",
      "\n",
      "           0       0.76      1.00      0.86       235\n",
      "           1       0.91      0.12      0.21        85\n",
      "\n",
      "   micro avg       0.76      0.76      0.76       320\n",
      "   macro avg       0.83      0.56      0.53       320\n",
      "weighted avg       0.80      0.76      0.69       320\n",
      "\n"
     ]
    }
   ],
   "source": [
    "print(classification_report(y_valid,y_pred))"
   ]
  },
  {
   "cell_type": "code",
   "execution_count": 78,
   "metadata": {},
   "outputs": [
    {
     "name": "stdout",
     "output_type": "stream",
     "text": [
      "The accuracy of the Random Forest Classifier on the validation data set  is: 0.7625\n"
     ]
    }
   ],
   "source": [
    "rf_ac = accuracy_score(y_valid, y_pred)\n",
    "print (\"The accuracy of the Random Forest Classifier on the validation data set  is:\", rf_ac)"
   ]
  },
  {
   "cell_type": "code",
   "execution_count": 79,
   "metadata": {},
   "outputs": [
    {
     "data": {
      "text/plain": [
       "RandomForestClassifier(bootstrap=True, class_weight=None, criterion='gini',\n",
       "            max_depth=80, max_features=3, max_leaf_nodes=None,\n",
       "            min_impurity_decrease=0.0, min_impurity_split=None,\n",
       "            min_samples_leaf=6, min_samples_split=14,\n",
       "            min_weight_fraction_leaf=0.0, n_estimators=1000, n_jobs=-1,\n",
       "            oob_score=False, random_state=123, verbose=0, warm_start=False)"
      ]
     },
     "execution_count": 79,
     "metadata": {},
     "output_type": "execute_result"
    }
   ],
   "source": [
    "best_grid = grid_search.best_estimator_\n",
    "best_grid"
   ]
  },
  {
   "cell_type": "code",
   "execution_count": 80,
   "metadata": {},
   "outputs": [
    {
     "data": {
      "image/png": "[encoded data removed]",
      "text/plain": [
       "<Figure size 1152x576 with 1 Axes>"
      ]
     },
     "metadata": {
      "needs_background": "light"
     },
     "output_type": "display_data"
    }
   ],
   "source": [
    "plt.title('Important Variables for Random Forest Classifier')\n",
    "feat_importances = pd.Series(best_grid.feature_importances_, index=X_train.columns)\n",
    "feat_importances.nlargest(15).sort_values(ascending=True).plot(kind='barh', figsize = (16,8)).set_facecolor(\"white\")"
   ]
  },
  {
   "cell_type": "markdown",
   "metadata": {},
   "source": [
    "### Support Vector Machine"
   ]
  },
  {
   "cell_type": "code",
   "execution_count": 81,
   "metadata": {},
   "outputs": [],
   "source": [
    "from sklearn.svm import SVC\n",
    "from sklearn.model_selection import GridSearchCV\n",
    "svm = SVC()"
   ]
  },
  {
   "cell_type": "code",
   "execution_count": 82,
   "metadata": {},
   "outputs": [],
   "source": [
    "#Hyper Parameters Set\n",
    "params = {'C': [6,9], \n",
    "          'kernel': ['linear','rbf'],\n",
    "         'gamma': ['scale', 'auto']}\n",
    "\n",
    "# Tuned with only few parameters just to save time."
   ]
  },
  {
   "cell_type": "code",
   "execution_count": 83,
   "metadata": {},
   "outputs": [],
   "source": [
    "grid_search = GridSearchCV(estimator = svm, param_grid = params, cv = 2, n_jobs = -1, verbose = 2)"
   ]
  },
  {
   "cell_type": "code",
   "execution_count": 84,
   "metadata": {},
   "outputs": [
    {
     "name": "stdout",
     "output_type": "stream",
     "text": [
      "Fitting 2 folds for each of 8 candidates, totalling 16 fits\n"
     ]
    },
    {
     "name": "stderr",
     "output_type": "stream",
     "text": [
      "[Parallel(n_jobs=-1)]: Using backend LokyBackend with 8 concurrent workers.\n",
      "[Parallel(n_jobs=-1)]: Done  10 out of  16 | elapsed:  6.3min remaining:  3.8min\n",
      "[Parallel(n_jobs=-1)]: Done  16 out of  16 | elapsed:  8.6min finished\n"
     ]
    },
    {
     "data": {
      "text/plain": [
       "GridSearchCV(cv=2, error_score='raise-deprecating',\n",
       "       estimator=SVC(C=1.0, cache_size=200, class_weight=None, coef0=0.0,\n",
       "  decision_function_shape='ovr', degree=3, gamma='auto_deprecated',\n",
       "  kernel='rbf', max_iter=-1, probability=False, random_state=None,\n",
       "  shrinking=True, tol=0.001, verbose=False),\n",
       "       fit_params=None, iid='warn', n_jobs=-1,\n",
       "       param_grid={'C': [6, 9], 'kernel': ['linear', 'rbf'], 'gamma': ['scale', 'auto']},\n",
       "       pre_dispatch='2*n_jobs', refit=True, return_train_score='warn',\n",
       "       scoring=None, verbose=2)"
      ]
     },
     "execution_count": 84,
     "metadata": {},
     "output_type": "execute_result"
    }
   ],
   "source": [
    "# Fit the grid search to the data\n",
    "grid_search.fit(X_train, y_train)"
   ]
  },
  {
   "cell_type": "code",
   "execution_count": 85,
   "metadata": {},
   "outputs": [
    {
     "data": {
      "text/plain": [
       "{'C': 6, 'gamma': 'auto', 'kernel': 'rbf'}"
      ]
     },
     "execution_count": 85,
     "metadata": {},
     "output_type": "execute_result"
    }
   ],
   "source": [
    "grid_search.best_params_"
   ]
  },
  {
   "cell_type": "code",
   "execution_count": 86,
   "metadata": {},
   "outputs": [],
   "source": [
    "y_pred = grid_search.predict(X_valid)"
   ]
  },
  {
   "cell_type": "code",
   "execution_count": 87,
   "metadata": {},
   "outputs": [
    {
     "name": "stdout",
     "output_type": "stream",
     "text": [
      "[[229   6]\n",
      " [ 77   8]]\n"
     ]
    }
   ],
   "source": [
    "print(confusion_matrix(y_valid,y_pred))  "
   ]
  },
  {
   "cell_type": "code",
   "execution_count": 88,
   "metadata": {},
   "outputs": [
    {
     "name": "stdout",
     "output_type": "stream",
     "text": [
      "              precision    recall  f1-score   support\n",
      "\n",
      "           0       0.75      0.97      0.85       235\n",
      "           1       0.57      0.09      0.16        85\n",
      "\n",
      "   micro avg       0.74      0.74      0.74       320\n",
      "   macro avg       0.66      0.53      0.50       320\n",
      "weighted avg       0.70      0.74      0.66       320\n",
      "\n"
     ]
    }
   ],
   "source": [
    "print(classification_report(y_valid,y_pred))"
   ]
  },
  {
   "cell_type": "code",
   "execution_count": 89,
   "metadata": {},
   "outputs": [
    {
     "name": "stdout",
     "output_type": "stream",
     "text": [
      "The accuracy of the Support Vector Machine on the validation data set  is: 0.740625\n"
     ]
    }
   ],
   "source": [
    "svm_ac = accuracy_score(y_valid, y_pred)\n",
    "print (\"The accuracy of the Support Vector Machine on the validation data set  is:\", svm_ac)"
   ]
  },
  {
   "cell_type": "code",
   "execution_count": 90,
   "metadata": {},
   "outputs": [
    {
     "data": {
      "text/plain": [
       "SVC(C=6, cache_size=200, class_weight=None, coef0=0.0,\n",
       "  decision_function_shape='ovr', degree=3, gamma='auto', kernel='rbf',\n",
       "  max_iter=-1, probability=False, random_state=None, shrinking=True,\n",
       "  tol=0.001, verbose=False)"
      ]
     },
     "execution_count": 90,
     "metadata": {},
     "output_type": "execute_result"
    }
   ],
   "source": [
    "best_grid = grid_search.best_estimator_\n",
    "best_grid"
   ]
  },
  {
   "cell_type": "markdown",
   "metadata": {},
   "source": [
    "### Deep Learning Neural Network"
   ]
  },
  {
   "cell_type": "code",
   "execution_count": 91,
   "metadata": {},
   "outputs": [],
   "source": [
    "import tensorflow as tf\n",
    "from tensorflow.python.keras.models import load_model\n",
    "#from sklearn.metrics import mean_squared_error\n",
    "import gc; gc.enable()"
   ]
  },
  {
   "cell_type": "markdown",
   "metadata": {},
   "source": [
    "Build the Model"
   ]
  },
  {
   "cell_type": "code",
   "execution_count": 92,
   "metadata": {},
   "outputs": [
    {
     "name": "stdout",
     "output_type": "stream",
     "text": [
      "WARNING:tensorflow:From C:\\Users\\PrakashAdhikari\\Documents\\temp\\lib\\site-packages\\tensorflow\\python\\ops\\resource_variable_ops.py:435: colocate_with (from tensorflow.python.framework.ops) is deprecated and will be removed in a future version.\n",
      "Instructions for updating:\n",
      "Colocations handled automatically by placer.\n",
      "_________________________________________________________________\n",
      "Layer (type)                 Output Shape              Param #   \n",
      "=================================================================\n",
      "dense (Dense)                (None, 128)               2560      \n",
      "_________________________________________________________________\n",
      "dense_1 (Dense)              (None, 256)               33024     \n",
      "_________________________________________________________________\n",
      "dense_2 (Dense)              (None, 128)               32896     \n",
      "_________________________________________________________________\n",
      "dense_3 (Dense)              (None, 64)                8256      \n",
      "_________________________________________________________________\n",
      "dense_4 (Dense)              (None, 1)                 65        \n",
      "=================================================================\n",
      "Total params: 76,801\n",
      "Trainable params: 76,801\n",
      "Non-trainable params: 0\n",
      "_________________________________________________________________\n"
     ]
    }
   ],
   "source": [
    "model = tf.keras.Sequential()\n",
    "model.add(tf.keras.layers.Dense(128,  input_dim=len(X_train.columns), activation ='relu', kernel_initializer = tf.random_normal_initializer))\n",
    "\n",
    "model.add(tf.keras.layers.Dense(256, activation=\"tanh\", kernel_initializer = tf.random_normal_initializer))\n",
    "\n",
    "model.add(tf.keras.layers.Dense(128, activation=\"sigmoid\", kernel_initializer = tf.random_normal_initializer))\n",
    "\n",
    "model.add(tf.keras.layers.Dense(64, activation=\"relu\", kernel_initializer = tf.random_normal_initializer))\n",
    "\n",
    "#model.add(tf.keras.layers.Dense(32, activation=\"relu\", kernel_initializer = tf.random_normal_initializer))\n",
    "\n",
    "model.add(tf.keras.layers.Dense(1, activation ='softmax', kernel_initializer = tf.random_normal_initializer)) \n",
    "model.summary()"
   ]
  },
  {
   "cell_type": "code",
   "execution_count": 93,
   "metadata": {},
   "outputs": [
    {
     "name": "stdout",
     "output_type": "stream",
     "text": [
      "(19, 128)\n"
     ]
    }
   ],
   "source": [
    "layer_input = model.layers[0]\n",
    "print(layer_input.get_weights()[0].shape)"
   ]
  },
  {
   "cell_type": "code",
   "execution_count": 94,
   "metadata": {},
   "outputs": [],
   "source": [
    "model.compile(optimizer= 'adam',#'rmsprop',\n",
    "              loss= 'binary_crossentropy', #'sparse_categorical_crossentropy', #\n",
    "              metrics=['accuracy'])"
   ]
  },
  {
   "cell_type": "code",
   "execution_count": 95,
   "metadata": {},
   "outputs": [],
   "source": [
    "learning_rate = 0.01\n",
    "epochs_value = 100\n",
    "batch_size_value = 8"
   ]
  },
  {
   "cell_type": "code",
   "execution_count": 96,
   "metadata": {
    "scrolled": true
   },
   "outputs": [
    {
     "name": "stdout",
     "output_type": "stream",
     "text": [
      "Train on 1280 samples, validate on 320 samples\n",
      "WARNING:tensorflow:From C:\\Users\\PrakashAdhikari\\Documents\\temp\\lib\\site-packages\\tensorflow\\python\\ops\\math_ops.py:3066: to_int32 (from tensorflow.python.ops.math_ops) is deprecated and will be removed in a future version.\n",
      "Instructions for updating:\n",
      "Use tf.cast instead.\n",
      "Epoch 1/100\n",
      "1280/1280 [==============================] - 1s 391us/sample - loss: 11.7077 - acc: 0.2656 - val_loss: 11.7077 - val_acc: 0.2656\n",
      "Epoch 2/100\n",
      "1280/1280 [==============================] - 0s 332us/sample - loss: 11.7077 - acc: 0.2656 - val_loss: 11.7077 - val_acc: 0.2656\n",
      "Epoch 3/100\n",
      "1280/1280 [==============================] - 0s 168us/sample - loss: 11.7077 - acc: 0.2656 - val_loss: 11.7077 - val_acc: 0.2656\n",
      "Epoch 4/100\n",
      "1280/1280 [==============================] - 0s 183us/sample - loss: 11.7077 - acc: 0.2656 - val_loss: 11.7077 - val_acc: 0.2656\n",
      "Epoch 5/100\n",
      "1280/1280 [==============================] - 0s 197us/sample - loss: 11.7077 - acc: 0.2656 - val_loss: 11.7077 - val_acc: 0.2656\n",
      "Epoch 6/100\n",
      "1280/1280 [==============================] - 0s 198us/sample - loss: 11.7077 - acc: 0.2656 - val_loss: 11.7077 - val_acc: 0.2656\n",
      "Epoch 7/100\n",
      "1280/1280 [==============================] - 0s 231us/sample - loss: 11.7077 - acc: 0.2656 - val_loss: 11.7077 - val_acc: 0.2656\n",
      "Epoch 8/100\n",
      "1280/1280 [==============================] - 0s 208us/sample - loss: 11.7077 - acc: 0.2656 - val_loss: 11.7077 - val_acc: 0.2656\n",
      "Epoch 9/100\n",
      "1280/1280 [==============================] - 0s 198us/sample - loss: 11.7077 - acc: 0.2656 - val_loss: 11.7077 - val_acc: 0.2656\n",
      "Epoch 10/100\n",
      "1280/1280 [==============================] - 0s 203us/sample - loss: 11.7077 - acc: 0.2656 - val_loss: 11.7077 - val_acc: 0.2656\n",
      "Epoch 11/100\n",
      "1280/1280 [==============================] - 0s 198us/sample - loss: 11.7077 - acc: 0.2656 - val_loss: 11.7077 - val_acc: 0.2656\n",
      "Epoch 12/100\n",
      "1280/1280 [==============================] - 0s 199us/sample - loss: 11.7077 - acc: 0.2656 - val_loss: 11.7077 - val_acc: 0.2656\n",
      "Epoch 13/100\n",
      "1280/1280 [==============================] - 0s 194us/sample - loss: 11.7077 - acc: 0.2656 - val_loss: 11.7077 - val_acc: 0.2656\n",
      "Epoch 14/100\n",
      "1280/1280 [==============================] - 0s 197us/sample - loss: 11.7077 - acc: 0.2656 - val_loss: 11.7077 - val_acc: 0.2656\n",
      "Epoch 15/100\n",
      "1280/1280 [==============================] - 0s 215us/sample - loss: 11.7077 - acc: 0.2656 - val_loss: 11.7077 - val_acc: 0.2656\n",
      "Epoch 16/100\n",
      "1280/1280 [==============================] - 0s 205us/sample - loss: 11.7077 - acc: 0.2656 - val_loss: 11.7077 - val_acc: 0.2656\n",
      "Epoch 17/100\n",
      "1280/1280 [==============================] - 0s 202us/sample - loss: 11.7077 - acc: 0.2656 - val_loss: 11.7077 - val_acc: 0.2656\n",
      "Epoch 18/100\n",
      "1280/1280 [==============================] - 0s 193us/sample - loss: 11.7077 - acc: 0.2656 - val_loss: 11.7077 - val_acc: 0.2656\n",
      "Epoch 19/100\n",
      "1280/1280 [==============================] - 0s 203us/sample - loss: 11.7077 - acc: 0.2656 - val_loss: 11.7077 - val_acc: 0.2656\n",
      "Epoch 20/100\n",
      "1280/1280 [==============================] - 0s 207us/sample - loss: 11.7077 - acc: 0.2656 - val_loss: 11.7077 - val_acc: 0.2656\n",
      "Epoch 21/100\n",
      "1280/1280 [==============================] - 0s 196us/sample - loss: 11.7077 - acc: 0.2656 - val_loss: 11.7077 - val_acc: 0.2656\n",
      "Epoch 22/100\n",
      "1280/1280 [==============================] - 0s 194us/sample - loss: 11.7077 - acc: 0.2656 - val_loss: 11.7077 - val_acc: 0.2656\n",
      "Epoch 23/100\n",
      "1280/1280 [==============================] - 0s 196us/sample - loss: 11.7077 - acc: 0.2656 - val_loss: 11.7077 - val_acc: 0.2656\n",
      "Epoch 24/100\n",
      "1280/1280 [==============================] - 0s 201us/sample - loss: 11.7077 - acc: 0.2656 - val_loss: 11.7077 - val_acc: 0.2656\n",
      "Epoch 25/100\n",
      "1280/1280 [==============================] - 0s 202us/sample - loss: 11.7077 - acc: 0.2656 - val_loss: 11.7077 - val_acc: 0.2656\n",
      "Epoch 26/100\n",
      "1280/1280 [==============================] - 0s 201us/sample - loss: 11.7077 - acc: 0.2656 - val_loss: 11.7077 - val_acc: 0.2656\n",
      "Epoch 27/100\n",
      "1280/1280 [==============================] - 0s 204us/sample - loss: 11.7077 - acc: 0.2656 - val_loss: 11.7077 - val_acc: 0.2656\n",
      "Epoch 28/100\n",
      "1280/1280 [==============================] - 0s 200us/sample - loss: 11.7077 - acc: 0.2656 - val_loss: 11.7077 - val_acc: 0.2656\n",
      "Epoch 29/100\n",
      "1280/1280 [==============================] - 0s 194us/sample - loss: 11.7077 - acc: 0.2656 - val_loss: 11.7077 - val_acc: 0.2656\n",
      "Epoch 30/100\n",
      "1280/1280 [==============================] - 0s 205us/sample - loss: 11.7077 - acc: 0.2656 - val_loss: 11.7077 - val_acc: 0.2656\n",
      "Epoch 31/100\n",
      "1280/1280 [==============================] - 0s 205us/sample - loss: 11.7077 - acc: 0.2656 - val_loss: 11.7077 - val_acc: 0.2656\n",
      "Epoch 32/100\n",
      "1280/1280 [==============================] - 0s 196us/sample - loss: 11.7077 - acc: 0.2656 - val_loss: 11.7077 - val_acc: 0.2656\n",
      "Epoch 33/100\n",
      "1280/1280 [==============================] - 0s 197us/sample - loss: 11.7077 - acc: 0.2656 - val_loss: 11.7077 - val_acc: 0.2656\n",
      "Epoch 34/100\n",
      "1280/1280 [==============================] - 0s 198us/sample - loss: 11.7077 - acc: 0.2656 - val_loss: 11.7077 - val_acc: 0.2656\n",
      "Epoch 35/100\n",
      "1280/1280 [==============================] - 0s 212us/sample - loss: 11.7077 - acc: 0.2656 - val_loss: 11.7077 - val_acc: 0.2656\n",
      "Epoch 36/100\n",
      "1280/1280 [==============================] - 0s 201us/sample - loss: 11.7077 - acc: 0.2656 - val_loss: 11.7077 - val_acc: 0.2656\n",
      "Epoch 37/100\n",
      "1280/1280 [==============================] - 0s 203us/sample - loss: 11.7077 - acc: 0.2656 - val_loss: 11.7077 - val_acc: 0.2656\n",
      "Epoch 38/100\n",
      "1280/1280 [==============================] - 0s 197us/sample - loss: 11.7077 - acc: 0.2656 - val_loss: 11.7077 - val_acc: 0.2656\n",
      "Epoch 39/100\n",
      "1280/1280 [==============================] - 0s 194us/sample - loss: 11.7077 - acc: 0.2656 - val_loss: 11.7077 - val_acc: 0.2656\n",
      "Epoch 40/100\n",
      "1280/1280 [==============================] - 0s 200us/sample - loss: 11.7077 - acc: 0.2656 - val_loss: 11.7077 - val_acc: 0.2656\n",
      "Epoch 41/100\n",
      "1280/1280 [==============================] - 0s 201us/sample - loss: 11.7077 - acc: 0.2656 - val_loss: 11.7077 - val_acc: 0.2656\n",
      "Epoch 42/100\n",
      "1280/1280 [==============================] - 0s 197us/sample - loss: 11.7077 - acc: 0.2656 - val_loss: 11.7077 - val_acc: 0.2656\n",
      "Epoch 43/100\n",
      "1280/1280 [==============================] - 0s 198us/sample - loss: 11.7077 - acc: 0.2656 - val_loss: 11.7077 - val_acc: 0.2656\n",
      "Epoch 44/100\n",
      "1280/1280 [==============================] - 0s 196us/sample - loss: 11.7077 - acc: 0.2656 - val_loss: 11.7077 - val_acc: 0.2656\n",
      "Epoch 45/100\n",
      "1280/1280 [==============================] - 0s 200us/sample - loss: 11.7077 - acc: 0.2656 - val_loss: 11.7077 - val_acc: 0.2656\n",
      "Epoch 46/100\n",
      "1280/1280 [==============================] - 0s 205us/sample - loss: 11.7077 - acc: 0.2656 - val_loss: 11.7077 - val_acc: 0.2656\n",
      "Epoch 47/100\n",
      "1280/1280 [==============================] - 0s 195us/sample - loss: 11.7077 - acc: 0.2656 - val_loss: 11.7077 - val_acc: 0.2656\n",
      "Epoch 48/100\n",
      "1280/1280 [==============================] - 0s 194us/sample - loss: 11.7077 - acc: 0.2656 - val_loss: 11.7077 - val_acc: 0.2656\n",
      "Epoch 49/100\n",
      "1280/1280 [==============================] - 0s 195us/sample - loss: 11.7077 - acc: 0.2656 - val_loss: 11.7077 - val_acc: 0.2656\n",
      "Epoch 50/100\n",
      "1280/1280 [==============================] - 0s 204us/sample - loss: 11.7077 - acc: 0.2656 - val_loss: 11.7077 - val_acc: 0.2656\n",
      "Epoch 51/100\n",
      "1280/1280 [==============================] - 0s 203us/sample - loss: 11.7077 - acc: 0.2656 - val_loss: 11.7077 - val_acc: 0.2656\n",
      "Epoch 52/100\n",
      "1280/1280 [==============================] - 0s 195us/sample - loss: 11.7077 - acc: 0.2656 - val_loss: 11.7077 - val_acc: 0.2656\n",
      "Epoch 53/100\n",
      "1280/1280 [==============================] - 0s 196us/sample - loss: 11.7077 - acc: 0.2656 - val_loss: 11.7077 - val_acc: 0.2656\n",
      "Epoch 54/100\n",
      "1280/1280 [==============================] - 0s 200us/sample - loss: 11.7077 - acc: 0.2656 - val_loss: 11.7077 - val_acc: 0.2656\n",
      "Epoch 55/100\n",
      "1280/1280 [==============================] - 0s 199us/sample - loss: 11.7077 - acc: 0.2656 - val_loss: 11.7077 - val_acc: 0.2656\n",
      "Epoch 56/100\n"
     ]
    },
    {
     "name": "stdout",
     "output_type": "stream",
     "text": [
      "1280/1280 [==============================] - 0s 202us/sample - loss: 11.7077 - acc: 0.2656 - val_loss: 11.7077 - val_acc: 0.2656\n",
      "Epoch 57/100\n",
      "1280/1280 [==============================] - 0s 197us/sample - loss: 11.7077 - acc: 0.2656 - val_loss: 11.7077 - val_acc: 0.2656\n",
      "Epoch 58/100\n",
      "1280/1280 [==============================] - 0s 207us/sample - loss: 11.7077 - acc: 0.2656 - val_loss: 11.7077 - val_acc: 0.2656\n",
      "Epoch 59/100\n",
      "1280/1280 [==============================] - 0s 199us/sample - loss: 11.7077 - acc: 0.2656 - val_loss: 11.7077 - val_acc: 0.2656\n",
      "Epoch 60/100\n",
      "1280/1280 [==============================] - 0s 200us/sample - loss: 11.7077 - acc: 0.2656 - val_loss: 11.7077 - val_acc: 0.2656\n",
      "Epoch 61/100\n",
      "1280/1280 [==============================] - 0s 201us/sample - loss: 11.7077 - acc: 0.2656 - val_loss: 11.7077 - val_acc: 0.2656\n",
      "Epoch 62/100\n",
      "1280/1280 [==============================] - 0s 195us/sample - loss: 11.7077 - acc: 0.2656 - val_loss: 11.7077 - val_acc: 0.2656\n",
      "Epoch 63/100\n",
      "1280/1280 [==============================] - 0s 193us/sample - loss: 11.7077 - acc: 0.2656 - val_loss: 11.7077 - val_acc: 0.2656\n",
      "Epoch 64/100\n",
      "1280/1280 [==============================] - 0s 195us/sample - loss: 11.7077 - acc: 0.2656 - val_loss: 11.7077 - val_acc: 0.2656\n",
      "Epoch 65/100\n",
      "1280/1280 [==============================] - 0s 195us/sample - loss: 11.7077 - acc: 0.2656 - val_loss: 11.7077 - val_acc: 0.2656\n",
      "Epoch 66/100\n",
      "1280/1280 [==============================] - 0s 206us/sample - loss: 11.7077 - acc: 0.2656 - val_loss: 11.7077 - val_acc: 0.2656\n",
      "Epoch 67/100\n",
      "1280/1280 [==============================] - 0s 206us/sample - loss: 11.7077 - acc: 0.2656 - val_loss: 11.7077 - val_acc: 0.2656\n",
      "Epoch 68/100\n",
      "1280/1280 [==============================] - 0s 194us/sample - loss: 11.7077 - acc: 0.2656 - val_loss: 11.7077 - val_acc: 0.2656\n",
      "Epoch 69/100\n",
      "1280/1280 [==============================] - 0s 195us/sample - loss: 11.7077 - acc: 0.2656 - val_loss: 11.7077 - val_acc: 0.2656\n",
      "Epoch 70/100\n",
      "1280/1280 [==============================] - 0s 196us/sample - loss: 11.7077 - acc: 0.2656 - val_loss: 11.7077 - val_acc: 0.2656\n",
      "Epoch 71/100\n",
      "1280/1280 [==============================] - 0s 202us/sample - loss: 11.7077 - acc: 0.2656 - val_loss: 11.7077 - val_acc: 0.2656\n",
      "Epoch 72/100\n",
      "1280/1280 [==============================] - 0s 195us/sample - loss: 11.7077 - acc: 0.2656 - val_loss: 11.7077 - val_acc: 0.2656\n",
      "Epoch 73/100\n",
      "1280/1280 [==============================] - 0s 197us/sample - loss: 11.7077 - acc: 0.2656 - val_loss: 11.7077 - val_acc: 0.2656\n",
      "Epoch 74/100\n",
      "1280/1280 [==============================] - 0s 200us/sample - loss: 11.7077 - acc: 0.2656 - val_loss: 11.7077 - val_acc: 0.2656\n",
      "Epoch 75/100\n",
      "1280/1280 [==============================] - 0s 194us/sample - loss: 11.7077 - acc: 0.2656 - val_loss: 11.7077 - val_acc: 0.2656\n",
      "Epoch 76/100\n",
      "1280/1280 [==============================] - 0s 203us/sample - loss: 11.7077 - acc: 0.2656 - val_loss: 11.7077 - val_acc: 0.2656\n",
      "Epoch 77/100\n",
      "1280/1280 [==============================] - 0s 200us/sample - loss: 11.7077 - acc: 0.2656 - val_loss: 11.7077 - val_acc: 0.2656\n",
      "Epoch 78/100\n",
      "1280/1280 [==============================] - 0s 196us/sample - loss: 11.7077 - acc: 0.2656 - val_loss: 11.7077 - val_acc: 0.2656\n",
      "Epoch 79/100\n",
      "1280/1280 [==============================] - 0s 194us/sample - loss: 11.7077 - acc: 0.2656 - val_loss: 11.7077 - val_acc: 0.2656\n",
      "Epoch 80/100\n",
      "1280/1280 [==============================] - 0s 196us/sample - loss: 11.7077 - acc: 0.2656 - val_loss: 11.7077 - val_acc: 0.2656\n",
      "Epoch 81/100\n",
      "1280/1280 [==============================] - 0s 204us/sample - loss: 11.7077 - acc: 0.2656 - val_loss: 11.7077 - val_acc: 0.2656\n",
      "Epoch 82/100\n",
      "1280/1280 [==============================] - 0s 207us/sample - loss: 11.7077 - acc: 0.2656 - val_loss: 11.7077 - val_acc: 0.2656\n",
      "Epoch 83/100\n",
      "1280/1280 [==============================] - 0s 200us/sample - loss: 11.7077 - acc: 0.2656 - val_loss: 11.7077 - val_acc: 0.2656\n",
      "Epoch 84/100\n",
      "1280/1280 [==============================] - 0s 195us/sample - loss: 11.7077 - acc: 0.2656 - val_loss: 11.7077 - val_acc: 0.2656\n",
      "Epoch 85/100\n",
      "1280/1280 [==============================] - 0s 199us/sample - loss: 11.7077 - acc: 0.2656 - val_loss: 11.7077 - val_acc: 0.2656\n",
      "Epoch 86/100\n",
      "1280/1280 [==============================] - 0s 196us/sample - loss: 11.7077 - acc: 0.2656 - val_loss: 11.7077 - val_acc: 0.2656\n",
      "Epoch 87/100\n",
      "1280/1280 [==============================] - 0s 206us/sample - loss: 11.7077 - acc: 0.2656 - val_loss: 11.7077 - val_acc: 0.2656\n",
      "Epoch 88/100\n",
      "1280/1280 [==============================] - 0s 194us/sample - loss: 11.7077 - acc: 0.2656 - val_loss: 11.7077 - val_acc: 0.2656\n",
      "Epoch 89/100\n",
      "1280/1280 [==============================] - 0s 197us/sample - loss: 11.7077 - acc: 0.2656 - val_loss: 11.7077 - val_acc: 0.2656\n",
      "Epoch 90/100\n",
      "1280/1280 [==============================] - 0s 200us/sample - loss: 11.7077 - acc: 0.2656 - val_loss: 11.7077 - val_acc: 0.2656\n",
      "Epoch 91/100\n",
      "1280/1280 [==============================] - 0s 196us/sample - loss: 11.7077 - acc: 0.2656 - val_loss: 11.7077 - val_acc: 0.2656\n",
      "Epoch 92/100\n",
      "1280/1280 [==============================] - 0s 202us/sample - loss: 11.7077 - acc: 0.2656 - val_loss: 11.7077 - val_acc: 0.2656\n",
      "Epoch 93/100\n",
      "1280/1280 [==============================] - 0s 207us/sample - loss: 11.7077 - acc: 0.2656 - val_loss: 11.7077 - val_acc: 0.2656\n",
      "Epoch 94/100\n",
      "1280/1280 [==============================] - 0s 196us/sample - loss: 11.7077 - acc: 0.2656 - val_loss: 11.7077 - val_acc: 0.2656\n",
      "Epoch 95/100\n",
      "1280/1280 [==============================] - 0s 196us/sample - loss: 11.7077 - acc: 0.2656 - val_loss: 11.7077 - val_acc: 0.2656\n",
      "Epoch 96/100\n",
      "1280/1280 [==============================] - 0s 201us/sample - loss: 11.7077 - acc: 0.2656 - val_loss: 11.7077 - val_acc: 0.2656\n",
      "Epoch 97/100\n",
      "1280/1280 [==============================] - 0s 206us/sample - loss: 11.7077 - acc: 0.2656 - val_loss: 11.7077 - val_acc: 0.2656\n",
      "Epoch 98/100\n",
      "1280/1280 [==============================] - 0s 206us/sample - loss: 11.7077 - acc: 0.2656 - val_loss: 11.7077 - val_acc: 0.2656\n",
      "Epoch 99/100\n",
      "1280/1280 [==============================] - 0s 197us/sample - loss: 11.7077 - acc: 0.2656 - val_loss: 11.7077 - val_acc: 0.2656\n",
      "Epoch 100/100\n",
      "1280/1280 [==============================] - 0s 199us/sample - loss: 11.7077 - acc: 0.2656 - val_loss: 11.7077 - val_acc: 0.2656\n"
     ]
    }
   ],
   "source": [
    "# learning/Training the model\n",
    "\n",
    "training_model = model.fit( X_train,  y_train, \n",
    "                           batch_size =batch_size_value, \n",
    "                           epochs=epochs_value,\n",
    "                           validation_data=(X_valid, y_valid))\n",
    "                         "
   ]
  },
  {
   "cell_type": "markdown",
   "metadata": {},
   "source": [
    "Evaluate on the Validation Data"
   ]
  },
  {
   "cell_type": "code",
   "execution_count": 97,
   "metadata": {},
   "outputs": [
    {
     "name": "stdout",
     "output_type": "stream",
     "text": [
      "320/320 [==============================] - 0s 31us/sample - loss: 11.7077 - acc: 0.2656\n"
     ]
    },
    {
     "data": {
      "text/plain": [
       "[11.70768928527832, 0.265625]"
      ]
     },
     "execution_count": 97,
     "metadata": {},
     "output_type": "execute_result"
    }
   ],
   "source": [
    "model.evaluate(X_valid, y_valid)"
   ]
  },
  {
   "cell_type": "markdown",
   "metadata": {},
   "source": [
    "Making Prediction"
   ]
  },
  {
   "cell_type": "code",
   "execution_count": 98,
   "metadata": {},
   "outputs": [],
   "source": [
    "y_pred = model.predict(X_valid) #, verbose=1)"
   ]
  },
  {
   "cell_type": "code",
   "execution_count": 99,
   "metadata": {},
   "outputs": [
    {
     "name": "stdout",
     "output_type": "stream",
     "text": [
      "[[  0 235]\n",
      " [  0  85]]\n"
     ]
    }
   ],
   "source": [
    "print(confusion_matrix(y_valid,y_pred))  "
   ]
  },
  {
   "cell_type": "code",
   "execution_count": 100,
   "metadata": {},
   "outputs": [
    {
     "name": "stdout",
     "output_type": "stream",
     "text": [
      "              precision    recall  f1-score   support\n",
      "\n",
      "           0       0.00      0.00      0.00       235\n",
      "           1       0.27      1.00      0.42        85\n",
      "\n",
      "   micro avg       0.27      0.27      0.27       320\n",
      "   macro avg       0.13      0.50      0.21       320\n",
      "weighted avg       0.07      0.27      0.11       320\n",
      "\n"
     ]
    },
    {
     "name": "stderr",
     "output_type": "stream",
     "text": [
      "C:\\Users\\PrakashAdhikari\\Documents\\temp\\lib\\site-packages\\sklearn\\metrics\\classification.py:1143: UndefinedMetricWarning: Precision and F-score are ill-defined and being set to 0.0 in labels with no predicted samples.\n",
      "  'precision', 'predicted', average, warn_for)\n",
      "C:\\Users\\PrakashAdhikari\\Documents\\temp\\lib\\site-packages\\sklearn\\metrics\\classification.py:1143: UndefinedMetricWarning: Precision and F-score are ill-defined and being set to 0.0 in labels with no predicted samples.\n",
      "  'precision', 'predicted', average, warn_for)\n",
      "C:\\Users\\PrakashAdhikari\\Documents\\temp\\lib\\site-packages\\sklearn\\metrics\\classification.py:1143: UndefinedMetricWarning: Precision and F-score are ill-defined and being set to 0.0 in labels with no predicted samples.\n",
      "  'precision', 'predicted', average, warn_for)\n"
     ]
    }
   ],
   "source": [
    "print(classification_report(y_valid,y_pred))"
   ]
  },
  {
   "cell_type": "code",
   "execution_count": 101,
   "metadata": {},
   "outputs": [
    {
     "name": "stdout",
     "output_type": "stream",
     "text": [
      "The accuracy of the Neural Network on the validation data set  is: 0.265625\n"
     ]
    }
   ],
   "source": [
    "dlnn_ac = accuracy_score(y_valid, y_pred)\n",
    "print (\"The accuracy of the Neural Network on the validation data set  is:\", dlnn_ac)"
   ]
  },
  {
   "cell_type": "markdown",
   "metadata": {},
   "source": [
    "Unfortunately, the Deep Learning Neural Network did not perform good."
   ]
  },
  {
   "cell_type": "markdown",
   "metadata": {},
   "source": [
    "### KNN Classifier"
   ]
  },
  {
   "cell_type": "code",
   "execution_count": 102,
   "metadata": {},
   "outputs": [],
   "source": [
    "from sklearn.neighbors import KNeighborsClassifier\n",
    "\n",
    "knn = KNeighborsClassifier()"
   ]
  },
  {
   "cell_type": "code",
   "execution_count": 103,
   "metadata": {},
   "outputs": [],
   "source": [
    "param_grid = {\n",
    "    'n_neighbors': [4,5,6,7],\n",
    "    'algorithm': ['auto', 'ball_tree', 'kd_tree', 'brute'],\n",
    "    \n",
    "    'n_jobs':[-1]\n",
    "            }"
   ]
  },
  {
   "cell_type": "code",
   "execution_count": 104,
   "metadata": {},
   "outputs": [],
   "source": [
    "grid_search = GridSearchCV(estimator = knn, param_grid = param_grid, cv = 2, n_jobs = -1, verbose = 2)"
   ]
  },
  {
   "cell_type": "code",
   "execution_count": 105,
   "metadata": {},
   "outputs": [
    {
     "name": "stdout",
     "output_type": "stream",
     "text": [
      "Fitting 2 folds for each of 16 candidates, totalling 32 fits\n"
     ]
    },
    {
     "name": "stderr",
     "output_type": "stream",
     "text": [
      "[Parallel(n_jobs=-1)]: Using backend LokyBackend with 8 concurrent workers.\n",
      "[Parallel(n_jobs=-1)]: Done  32 out of  32 | elapsed:    1.2s finished\n"
     ]
    },
    {
     "data": {
      "text/plain": [
       "GridSearchCV(cv=2, error_score='raise-deprecating',\n",
       "       estimator=KNeighborsClassifier(algorithm='auto', leaf_size=30, metric='minkowski',\n",
       "           metric_params=None, n_jobs=None, n_neighbors=5, p=2,\n",
       "           weights='uniform'),\n",
       "       fit_params=None, iid='warn', n_jobs=-1,\n",
       "       param_grid={'n_neighbors': [4, 5, 6, 7], 'algorithm': ['auto', 'ball_tree', 'kd_tree', 'brute'], 'n_jobs': [-1]},\n",
       "       pre_dispatch='2*n_jobs', refit=True, return_train_score='warn',\n",
       "       scoring=None, verbose=2)"
      ]
     },
     "execution_count": 105,
     "metadata": {},
     "output_type": "execute_result"
    }
   ],
   "source": [
    "grid_search.fit(X_train, y_train)"
   ]
  },
  {
   "cell_type": "code",
   "execution_count": 106,
   "metadata": {},
   "outputs": [
    {
     "data": {
      "text/plain": [
       "{'algorithm': 'auto', 'n_jobs': -1, 'n_neighbors': 6}"
      ]
     },
     "execution_count": 106,
     "metadata": {},
     "output_type": "execute_result"
    }
   ],
   "source": [
    "grid_search.best_params_"
   ]
  },
  {
   "cell_type": "code",
   "execution_count": 107,
   "metadata": {},
   "outputs": [],
   "source": [
    "y_pred = grid_search.predict(X_valid)"
   ]
  },
  {
   "cell_type": "code",
   "execution_count": 108,
   "metadata": {},
   "outputs": [
    {
     "name": "stdout",
     "output_type": "stream",
     "text": [
      "[[227   8]\n",
      " [ 73  12]]\n"
     ]
    }
   ],
   "source": [
    "print(confusion_matrix(y_valid,y_pred))  "
   ]
  },
  {
   "cell_type": "code",
   "execution_count": 109,
   "metadata": {},
   "outputs": [
    {
     "name": "stdout",
     "output_type": "stream",
     "text": [
      "              precision    recall  f1-score   support\n",
      "\n",
      "           0       0.76      0.97      0.85       235\n",
      "           1       0.60      0.14      0.23        85\n",
      "\n",
      "   micro avg       0.75      0.75      0.75       320\n",
      "   macro avg       0.68      0.55      0.54       320\n",
      "weighted avg       0.72      0.75      0.68       320\n",
      "\n"
     ]
    }
   ],
   "source": [
    "print(classification_report(y_valid,y_pred))"
   ]
  },
  {
   "cell_type": "code",
   "execution_count": 110,
   "metadata": {},
   "outputs": [
    {
     "name": "stdout",
     "output_type": "stream",
     "text": [
      "The accuracy of the KNN Classifier on the validation data set  is: 0.746875\n"
     ]
    }
   ],
   "source": [
    "knn_ac = accuracy_score(y_valid, y_pred)\n",
    "print (\"The accuracy of the KNN Classifier on the validation data set  is:\", knn_ac)"
   ]
  },
  {
   "cell_type": "code",
   "execution_count": 111,
   "metadata": {},
   "outputs": [
    {
     "data": {
      "text/plain": [
       "KNeighborsClassifier(algorithm='auto', leaf_size=30, metric='minkowski',\n",
       "           metric_params=None, n_jobs=-1, n_neighbors=6, p=2,\n",
       "           weights='uniform')"
      ]
     },
     "execution_count": 111,
     "metadata": {},
     "output_type": "execute_result"
    }
   ],
   "source": [
    "best_grid = grid_search.best_estimator_\n",
    "best_grid"
   ]
  },
  {
   "cell_type": "markdown",
   "metadata": {},
   "source": [
    "### Lets Documents all the Models and their Accuracies"
   ]
  },
  {
   "cell_type": "code",
   "execution_count": 112,
   "metadata": {},
   "outputs": [
    {
     "data": {
      "text/html": [
       "<div>\n",
       "<style scoped>\n",
       "    .dataframe tbody tr th:only-of-type {\n",
       "        vertical-align: middle;\n",
       "    }\n",
       "\n",
       "    .dataframe tbody tr th {\n",
       "        vertical-align: top;\n",
       "    }\n",
       "\n",
       "    .dataframe thead th {\n",
       "        text-align: right;\n",
       "    }\n",
       "</style>\n",
       "<table border=\"1\" class=\"dataframe\">\n",
       "  <thead>\n",
       "    <tr style=\"text-align: right;\">\n",
       "      <th></th>\n",
       "      <th>Model</th>\n",
       "      <th>Accuracy</th>\n",
       "    </tr>\n",
       "  </thead>\n",
       "  <tbody>\n",
       "    <tr>\n",
       "      <th>1</th>\n",
       "      <td>Random Forest Classifier</td>\n",
       "      <td>0.762500</td>\n",
       "    </tr>\n",
       "    <tr>\n",
       "      <th>3</th>\n",
       "      <td>KNN Classifier</td>\n",
       "      <td>0.746875</td>\n",
       "    </tr>\n",
       "    <tr>\n",
       "      <th>5</th>\n",
       "      <td>Support Vector Machine</td>\n",
       "      <td>0.740625</td>\n",
       "    </tr>\n",
       "    <tr>\n",
       "      <th>0</th>\n",
       "      <td>Logistic Regression</td>\n",
       "      <td>0.731250</td>\n",
       "    </tr>\n",
       "    <tr>\n",
       "      <th>2</th>\n",
       "      <td>Decision Tree Classifier</td>\n",
       "      <td>0.725000</td>\n",
       "    </tr>\n",
       "    <tr>\n",
       "      <th>4</th>\n",
       "      <td>Deep Learning Neural Network</td>\n",
       "      <td>0.265625</td>\n",
       "    </tr>\n",
       "  </tbody>\n",
       "</table>\n",
       "</div>"
      ],
      "text/plain": [
       "                          Model  Accuracy\n",
       "1      Random Forest Classifier  0.762500\n",
       "3                KNN Classifier  0.746875\n",
       "5        Support Vector Machine  0.740625\n",
       "0           Logistic Regression  0.731250\n",
       "2      Decision Tree Classifier  0.725000\n",
       "4  Deep Learning Neural Network  0.265625"
      ]
     },
     "execution_count": 112,
     "metadata": {},
     "output_type": "execute_result"
    }
   ],
   "source": [
    "models = pd.DataFrame({\n",
    "    'Model': ['Logistic Regression','Random Forest Classifier', 'Decision Tree Classifier', 'KNN Classifier', 'Deep Learning Neural Network', 'Support Vector Machine'],\n",
    "    'Accuracy': [lr_ac, rf_ac, tc_ac, knn_ac, dlnn_ac, svm_ac]\n",
    "    \n",
    "    }) \n",
    "models.sort_values(by='Accuracy', ascending=False)"
   ]
  },
  {
   "cell_type": "markdown",
   "metadata": {},
   "source": [
    "Random Forest Classifier model turned to be the best model. "
   ]
  },
  {
   "cell_type": "markdown",
   "metadata": {},
   "source": [
    "# Lets train the Random Forest Classifier Model on the whole data set:"
   ]
  },
  {
   "cell_type": "markdown",
   "metadata": {},
   "source": [
    "Best Model for making Prediction on the Test Data"
   ]
  },
  {
   "cell_type": "code",
   "execution_count": 113,
   "metadata": {},
   "outputs": [],
   "source": [
    "from sklearn.ensemble import RandomForestClassifier"
   ]
  },
  {
   "cell_type": "code",
   "execution_count": 114,
   "metadata": {},
   "outputs": [],
   "source": [
    "model = RandomForestClassifier(bootstrap=True, class_weight=None, criterion='entropy',\n",
    "            max_depth=80, max_features=3, max_leaf_nodes=None,\n",
    "            min_impurity_decrease=0.0, min_impurity_split=None,\n",
    "            min_samples_leaf=3, min_samples_split=10,\n",
    "            min_weight_fraction_leaf=0.0, n_estimators=1000, n_jobs=-1,\n",
    "            oob_score=False, random_state=123, verbose=0, warm_start=False)\n",
    "\n",
    "# These are the parameters that were obtained by tuning hyper parameters."
   ]
  },
  {
   "cell_type": "code",
   "execution_count": 115,
   "metadata": {},
   "outputs": [
    {
     "data": {
      "text/plain": [
       "RandomForestClassifier(bootstrap=True, class_weight=None, criterion='entropy',\n",
       "            max_depth=80, max_features=3, max_leaf_nodes=None,\n",
       "            min_impurity_decrease=0.0, min_impurity_split=None,\n",
       "            min_samples_leaf=3, min_samples_split=10,\n",
       "            min_weight_fraction_leaf=0.0, n_estimators=1000, n_jobs=-1,\n",
       "            oob_score=False, random_state=123, verbose=0, warm_start=False)"
      ]
     },
     "execution_count": 115,
     "metadata": {},
     "output_type": "execute_result"
    }
   ],
   "source": [
    "# Lets train the Random Forest Classifier model on the whole data set\n",
    "\n",
    "model.fit(X,Y)"
   ]
  },
  {
   "cell_type": "code",
   "execution_count": 116,
   "metadata": {},
   "outputs": [
    {
     "data": {
      "image/png": "[encoded data removed]",
      "text/plain": [
       "<Figure size 1152x576 with 1 Axes>"
      ]
     },
     "metadata": {
      "needs_background": "light"
     },
     "output_type": "display_data"
    }
   ],
   "source": [
    "plt.title('Important Variables for Random Forest Classifier')\n",
    "feat_importances = pd.Series(model.feature_importances_, index=X_train.columns)\n",
    "feat_importances.nlargest(15).sort_values(ascending=True).plot(kind='barh', figsize = (16,8)).set_facecolor(\"white\")"
   ]
  },
  {
   "cell_type": "markdown",
   "metadata": {},
   "source": [
    "The Important Variables gives the variables that have significant contribution on making the prediction. From the plot, we can see that while making decision whether to approve loan or not, the following variables should be given priority:\n",
    "\n",
    "Monthly Net Income, Months at Residence, Loan Amount, Loan Days, Bank Account Months, Loan Approval Duration, and so on and so forth."
   ]
  },
  {
   "cell_type": "markdown",
   "metadata": {},
   "source": [
    "# Preparation of the Test Data "
   ]
  },
  {
   "cell_type": "code",
   "execution_count": 117,
   "metadata": {},
   "outputs": [
    {
     "data": {
      "text/html": [
       "<div>\n",
       "<style scoped>\n",
       "    .dataframe tbody tr th:only-of-type {\n",
       "        vertical-align: middle;\n",
       "    }\n",
       "\n",
       "    .dataframe tbody tr th {\n",
       "        vertical-align: top;\n",
       "    }\n",
       "\n",
       "    .dataframe thead th {\n",
       "        text-align: right;\n",
       "    }\n",
       "</style>\n",
       "<table border=\"1\" class=\"dataframe\">\n",
       "  <thead>\n",
       "    <tr style=\"text-align: right;\">\n",
       "      <th></th>\n",
       "      <th>SetID</th>\n",
       "      <th>Time of Application</th>\n",
       "      <th>State</th>\n",
       "      <th>Monthly Net Income</th>\n",
       "      <th>Paycheck Net Income</th>\n",
       "      <th>Rent or Own</th>\n",
       "      <th>Months at Residence</th>\n",
       "      <th>Bank Account Months</th>\n",
       "      <th>Pay Cycle</th>\n",
       "      <th>Loan Amount</th>\n",
       "      <th>Loan Funded  Date</th>\n",
       "      <th>Loan Due Date</th>\n",
       "      <th>LoanDays</th>\n",
       "    </tr>\n",
       "  </thead>\n",
       "  <tbody>\n",
       "    <tr>\n",
       "      <th>0</th>\n",
       "      <td>1</td>\n",
       "      <td>2018-04-09T23:25:18Z</td>\n",
       "      <td>CA</td>\n",
       "      <td>1894.0</td>\n",
       "      <td>947.0</td>\n",
       "      <td>R</td>\n",
       "      <td>8</td>\n",
       "      <td>30</td>\n",
       "      <td>BiWeekly</td>\n",
       "      <td>300.00</td>\n",
       "      <td>4/10/2018</td>\n",
       "      <td>4/20/2018</td>\n",
       "      <td>10</td>\n",
       "    </tr>\n",
       "    <tr>\n",
       "      <th>1</th>\n",
       "      <td>4</td>\n",
       "      <td>2018-04-09T20:34:56Z</td>\n",
       "      <td>TX</td>\n",
       "      <td>5000.0</td>\n",
       "      <td>5000.0</td>\n",
       "      <td>O</td>\n",
       "      <td>36</td>\n",
       "      <td>36</td>\n",
       "      <td>Monthly</td>\n",
       "      <td>642.46</td>\n",
       "      <td>4/10/2018</td>\n",
       "      <td>4/27/2018</td>\n",
       "      <td>17</td>\n",
       "    </tr>\n",
       "    <tr>\n",
       "      <th>2</th>\n",
       "      <td>14</td>\n",
       "      <td>2018-04-09T17:41:37Z</td>\n",
       "      <td>TX</td>\n",
       "      <td>2500.0</td>\n",
       "      <td>2500.0</td>\n",
       "      <td>O</td>\n",
       "      <td>108</td>\n",
       "      <td>6</td>\n",
       "      <td>Monthly</td>\n",
       "      <td>644.24</td>\n",
       "      <td>4/9/2018</td>\n",
       "      <td>5/10/2018</td>\n",
       "      <td>31</td>\n",
       "    </tr>\n",
       "    <tr>\n",
       "      <th>3</th>\n",
       "      <td>19</td>\n",
       "      <td>2018-04-09T16:33:35Z</td>\n",
       "      <td>CA</td>\n",
       "      <td>2902.0</td>\n",
       "      <td>1451.0</td>\n",
       "      <td>R</td>\n",
       "      <td>48</td>\n",
       "      <td>36</td>\n",
       "      <td>BiWeekly</td>\n",
       "      <td>300.00</td>\n",
       "      <td>4/9/2018</td>\n",
       "      <td>4/20/2018</td>\n",
       "      <td>11</td>\n",
       "    </tr>\n",
       "    <tr>\n",
       "      <th>4</th>\n",
       "      <td>28</td>\n",
       "      <td>2018-04-09T14:51:15Z</td>\n",
       "      <td>CA</td>\n",
       "      <td>5000.0</td>\n",
       "      <td>5000.0</td>\n",
       "      <td>R</td>\n",
       "      <td>12</td>\n",
       "      <td>12</td>\n",
       "      <td>Monthly</td>\n",
       "      <td>235.30</td>\n",
       "      <td>4/9/2018</td>\n",
       "      <td>4/30/2018</td>\n",
       "      <td>21</td>\n",
       "    </tr>\n",
       "  </tbody>\n",
       "</table>\n",
       "</div>"
      ],
      "text/plain": [
       "   SetID   Time of Application State  Monthly Net Income  Paycheck Net Income  \\\n",
       "0      1  2018-04-09T23:25:18Z    CA              1894.0                947.0   \n",
       "1      4  2018-04-09T20:34:56Z    TX              5000.0               5000.0   \n",
       "2     14  2018-04-09T17:41:37Z    TX              2500.0               2500.0   \n",
       "3     19  2018-04-09T16:33:35Z    CA              2902.0               1451.0   \n",
       "4     28  2018-04-09T14:51:15Z    CA              5000.0               5000.0   \n",
       "\n",
       "  Rent or Own  Months at Residence  Bank Account Months Pay Cycle  \\\n",
       "0           R                    8                   30  BiWeekly   \n",
       "1           O                   36                   36   Monthly   \n",
       "2           O                  108                    6   Monthly   \n",
       "3           R                   48                   36  BiWeekly   \n",
       "4           R                   12                   12   Monthly   \n",
       "\n",
       "   Loan Amount Loan Funded  Date Loan Due Date  LoanDays  \n",
       "0       300.00         4/10/2018     4/20/2018        10  \n",
       "1       642.46         4/10/2018     4/27/2018        17  \n",
       "2       644.24          4/9/2018     5/10/2018        31  \n",
       "3       300.00          4/9/2018     4/20/2018        11  \n",
       "4       235.30          4/9/2018     4/30/2018        21  "
      ]
     },
     "execution_count": 117,
     "metadata": {},
     "output_type": "execute_result"
    }
   ],
   "source": [
    "test = pd.read_csv(\"2018-05-17-Recruit-Sample-Data-Test.csv\")\n",
    "test.head()"
   ]
  },
  {
   "cell_type": "code",
   "execution_count": 118,
   "metadata": {},
   "outputs": [
    {
     "data": {
      "text/plain": [
       "(400, 13)"
      ]
     },
     "execution_count": 118,
     "metadata": {},
     "output_type": "execute_result"
    }
   ],
   "source": [
    "test.shape"
   ]
  },
  {
   "cell_type": "code",
   "execution_count": 119,
   "metadata": {},
   "outputs": [
    {
     "data": {
      "text/plain": [
       "SetID                  0\n",
       "Time of Application    0\n",
       "State                  0\n",
       "Monthly Net Income     0\n",
       "Paycheck Net Income    0\n",
       "Rent or Own            0\n",
       "Months at Residence    0\n",
       "Bank Account Months    0\n",
       "Pay Cycle              0\n",
       "Loan Amount            0\n",
       "Loan Funded  Date      0\n",
       "Loan Due Date          0\n",
       "LoanDays               0\n",
       "dtype: int64"
      ]
     },
     "execution_count": 119,
     "metadata": {},
     "output_type": "execute_result"
    }
   ],
   "source": [
    "test.isnull().sum()"
   ]
  },
  {
   "cell_type": "code",
   "execution_count": 120,
   "metadata": {},
   "outputs": [],
   "source": [
    "test['Dates'] = pd.to_datetime(test['Time of Application']).dt.date\n",
    "test['Time'] = pd.to_datetime(test['Time of Application']).dt.time"
   ]
  },
  {
   "cell_type": "code",
   "execution_count": 121,
   "metadata": {},
   "outputs": [
    {
     "data": {
      "text/html": [
       "<div>\n",
       "<style scoped>\n",
       "    .dataframe tbody tr th:only-of-type {\n",
       "        vertical-align: middle;\n",
       "    }\n",
       "\n",
       "    .dataframe tbody tr th {\n",
       "        vertical-align: top;\n",
       "    }\n",
       "\n",
       "    .dataframe thead th {\n",
       "        text-align: right;\n",
       "    }\n",
       "</style>\n",
       "<table border=\"1\" class=\"dataframe\">\n",
       "  <thead>\n",
       "    <tr style=\"text-align: right;\">\n",
       "      <th></th>\n",
       "      <th>SetID</th>\n",
       "      <th>Time of Application</th>\n",
       "      <th>State</th>\n",
       "      <th>Monthly Net Income</th>\n",
       "      <th>Paycheck Net Income</th>\n",
       "      <th>Rent or Own</th>\n",
       "      <th>Months at Residence</th>\n",
       "      <th>Bank Account Months</th>\n",
       "      <th>Pay Cycle</th>\n",
       "      <th>Loan Amount</th>\n",
       "      <th>Loan Funded  Date</th>\n",
       "      <th>Loan Due Date</th>\n",
       "      <th>LoanDays</th>\n",
       "      <th>Dates</th>\n",
       "      <th>Time</th>\n",
       "    </tr>\n",
       "  </thead>\n",
       "  <tbody>\n",
       "    <tr>\n",
       "      <th>0</th>\n",
       "      <td>1</td>\n",
       "      <td>2018-04-09T23:25:18Z</td>\n",
       "      <td>CA</td>\n",
       "      <td>1894.0</td>\n",
       "      <td>947.0</td>\n",
       "      <td>R</td>\n",
       "      <td>8</td>\n",
       "      <td>30</td>\n",
       "      <td>BiWeekly</td>\n",
       "      <td>300.00</td>\n",
       "      <td>4/10/2018</td>\n",
       "      <td>4/20/2018</td>\n",
       "      <td>10</td>\n",
       "      <td>2018-04-09</td>\n",
       "      <td>23:25:18</td>\n",
       "    </tr>\n",
       "    <tr>\n",
       "      <th>1</th>\n",
       "      <td>4</td>\n",
       "      <td>2018-04-09T20:34:56Z</td>\n",
       "      <td>TX</td>\n",
       "      <td>5000.0</td>\n",
       "      <td>5000.0</td>\n",
       "      <td>O</td>\n",
       "      <td>36</td>\n",
       "      <td>36</td>\n",
       "      <td>Monthly</td>\n",
       "      <td>642.46</td>\n",
       "      <td>4/10/2018</td>\n",
       "      <td>4/27/2018</td>\n",
       "      <td>17</td>\n",
       "      <td>2018-04-09</td>\n",
       "      <td>20:34:56</td>\n",
       "    </tr>\n",
       "    <tr>\n",
       "      <th>2</th>\n",
       "      <td>14</td>\n",
       "      <td>2018-04-09T17:41:37Z</td>\n",
       "      <td>TX</td>\n",
       "      <td>2500.0</td>\n",
       "      <td>2500.0</td>\n",
       "      <td>O</td>\n",
       "      <td>108</td>\n",
       "      <td>6</td>\n",
       "      <td>Monthly</td>\n",
       "      <td>644.24</td>\n",
       "      <td>4/9/2018</td>\n",
       "      <td>5/10/2018</td>\n",
       "      <td>31</td>\n",
       "      <td>2018-04-09</td>\n",
       "      <td>17:41:37</td>\n",
       "    </tr>\n",
       "    <tr>\n",
       "      <th>3</th>\n",
       "      <td>19</td>\n",
       "      <td>2018-04-09T16:33:35Z</td>\n",
       "      <td>CA</td>\n",
       "      <td>2902.0</td>\n",
       "      <td>1451.0</td>\n",
       "      <td>R</td>\n",
       "      <td>48</td>\n",
       "      <td>36</td>\n",
       "      <td>BiWeekly</td>\n",
       "      <td>300.00</td>\n",
       "      <td>4/9/2018</td>\n",
       "      <td>4/20/2018</td>\n",
       "      <td>11</td>\n",
       "      <td>2018-04-09</td>\n",
       "      <td>16:33:35</td>\n",
       "    </tr>\n",
       "    <tr>\n",
       "      <th>4</th>\n",
       "      <td>28</td>\n",
       "      <td>2018-04-09T14:51:15Z</td>\n",
       "      <td>CA</td>\n",
       "      <td>5000.0</td>\n",
       "      <td>5000.0</td>\n",
       "      <td>R</td>\n",
       "      <td>12</td>\n",
       "      <td>12</td>\n",
       "      <td>Monthly</td>\n",
       "      <td>235.30</td>\n",
       "      <td>4/9/2018</td>\n",
       "      <td>4/30/2018</td>\n",
       "      <td>21</td>\n",
       "      <td>2018-04-09</td>\n",
       "      <td>14:51:15</td>\n",
       "    </tr>\n",
       "  </tbody>\n",
       "</table>\n",
       "</div>"
      ],
      "text/plain": [
       "   SetID   Time of Application State  Monthly Net Income  Paycheck Net Income  \\\n",
       "0      1  2018-04-09T23:25:18Z    CA              1894.0                947.0   \n",
       "1      4  2018-04-09T20:34:56Z    TX              5000.0               5000.0   \n",
       "2     14  2018-04-09T17:41:37Z    TX              2500.0               2500.0   \n",
       "3     19  2018-04-09T16:33:35Z    CA              2902.0               1451.0   \n",
       "4     28  2018-04-09T14:51:15Z    CA              5000.0               5000.0   \n",
       "\n",
       "  Rent or Own  Months at Residence  Bank Account Months Pay Cycle  \\\n",
       "0           R                    8                   30  BiWeekly   \n",
       "1           O                   36                   36   Monthly   \n",
       "2           O                  108                    6   Monthly   \n",
       "3           R                   48                   36  BiWeekly   \n",
       "4           R                   12                   12   Monthly   \n",
       "\n",
       "   Loan Amount Loan Funded  Date Loan Due Date  LoanDays       Dates      Time  \n",
       "0       300.00         4/10/2018     4/20/2018        10  2018-04-09  23:25:18  \n",
       "1       642.46         4/10/2018     4/27/2018        17  2018-04-09  20:34:56  \n",
       "2       644.24          4/9/2018     5/10/2018        31  2018-04-09  17:41:37  \n",
       "3       300.00          4/9/2018     4/20/2018        11  2018-04-09  16:33:35  \n",
       "4       235.30          4/9/2018     4/30/2018        21  2018-04-09  14:51:15  "
      ]
     },
     "execution_count": 121,
     "metadata": {},
     "output_type": "execute_result"
    }
   ],
   "source": [
    "test.head()"
   ]
  },
  {
   "cell_type": "code",
   "execution_count": 122,
   "metadata": {},
   "outputs": [],
   "source": [
    "def week_day(x):\n",
    "    return [i.strftime(\"%A\") for i in x]\n",
    "\n",
    "test['Week_Day'] = week_day(test.Dates)"
   ]
  },
  {
   "cell_type": "code",
   "execution_count": 123,
   "metadata": {},
   "outputs": [
    {
     "data": {
      "text/plain": [
       "7"
      ]
     },
     "execution_count": 123,
     "metadata": {},
     "output_type": "execute_result"
    }
   ],
   "source": [
    "test['Week_Day'].nunique()"
   ]
  },
  {
   "cell_type": "code",
   "execution_count": 124,
   "metadata": {},
   "outputs": [
    {
     "data": {
      "text/plain": [
       "Index(['SetID', 'Time of Application', 'State', 'Monthly Net Income',\n",
       "       'Paycheck Net Income', 'Rent or Own', 'Months at Residence',\n",
       "       'Bank Account Months', 'Pay Cycle', 'Loan Amount', 'Loan Funded  Date',\n",
       "       'Loan Due Date', 'LoanDays', 'Dates', 'Time', 'Week_Day'],\n",
       "      dtype='object')"
      ]
     },
     "execution_count": 124,
     "metadata": {},
     "output_type": "execute_result"
    }
   ],
   "source": [
    "test.columns"
   ]
  },
  {
   "cell_type": "code",
   "execution_count": 125,
   "metadata": {},
   "outputs": [],
   "source": [
    "test['Loan Funded  Date'] = pd.to_datetime(test['Loan Funded  Date']).dt.date"
   ]
  },
  {
   "cell_type": "code",
   "execution_count": 126,
   "metadata": {},
   "outputs": [],
   "source": [
    "test['Loan Approval Duration (Days)'] = Loan_Approval_Duration(test['Dates'], test['Loan Funded  Date'])"
   ]
  },
  {
   "cell_type": "code",
   "execution_count": 127,
   "metadata": {},
   "outputs": [],
   "source": [
    "test['Loan Approval Duration (Days)'] =  test['Loan Approval Duration (Days)'].dt.days.astype('int16')"
   ]
  },
  {
   "cell_type": "code",
   "execution_count": 128,
   "metadata": {},
   "outputs": [
    {
     "data": {
      "text/plain": [
       "0    1\n",
       "1    0\n",
       "2    3\n",
       "3    6\n",
       "4    7\n",
       "5    5\n",
       "6    2\n",
       "7    9\n",
       "8    4\n",
       "9    8\n",
       "dtype: int64"
      ]
     },
     "execution_count": 128,
     "metadata": {},
     "output_type": "execute_result"
    }
   ],
   "source": [
    "pd.Series(test['Loan Approval Duration (Days)'].unique())"
   ]
  },
  {
   "cell_type": "code",
   "execution_count": 129,
   "metadata": {},
   "outputs": [
    {
     "data": {
      "text/html": [
       "<div>\n",
       "<style scoped>\n",
       "    .dataframe tbody tr th:only-of-type {\n",
       "        vertical-align: middle;\n",
       "    }\n",
       "\n",
       "    .dataframe tbody tr th {\n",
       "        vertical-align: top;\n",
       "    }\n",
       "\n",
       "    .dataframe thead th {\n",
       "        text-align: right;\n",
       "    }\n",
       "</style>\n",
       "<table border=\"1\" class=\"dataframe\">\n",
       "  <thead>\n",
       "    <tr style=\"text-align: right;\">\n",
       "      <th></th>\n",
       "      <th>SetID</th>\n",
       "      <th>Time of Application</th>\n",
       "      <th>State</th>\n",
       "      <th>Monthly Net Income</th>\n",
       "      <th>Paycheck Net Income</th>\n",
       "      <th>Rent or Own</th>\n",
       "      <th>Months at Residence</th>\n",
       "      <th>Bank Account Months</th>\n",
       "      <th>Pay Cycle</th>\n",
       "      <th>Loan Amount</th>\n",
       "      <th>Loan Funded  Date</th>\n",
       "      <th>Loan Due Date</th>\n",
       "      <th>LoanDays</th>\n",
       "      <th>Dates</th>\n",
       "      <th>Time</th>\n",
       "      <th>Week_Day</th>\n",
       "      <th>Loan Approval Duration (Days)</th>\n",
       "    </tr>\n",
       "  </thead>\n",
       "  <tbody>\n",
       "    <tr>\n",
       "      <th>0</th>\n",
       "      <td>1</td>\n",
       "      <td>2018-04-09T23:25:18Z</td>\n",
       "      <td>CA</td>\n",
       "      <td>1894.0</td>\n",
       "      <td>947.0</td>\n",
       "      <td>R</td>\n",
       "      <td>8</td>\n",
       "      <td>30</td>\n",
       "      <td>BiWeekly</td>\n",
       "      <td>300.00</td>\n",
       "      <td>2018-04-10</td>\n",
       "      <td>4/20/2018</td>\n",
       "      <td>10</td>\n",
       "      <td>2018-04-09</td>\n",
       "      <td>23:25:18</td>\n",
       "      <td>Monday</td>\n",
       "      <td>1</td>\n",
       "    </tr>\n",
       "    <tr>\n",
       "      <th>1</th>\n",
       "      <td>4</td>\n",
       "      <td>2018-04-09T20:34:56Z</td>\n",
       "      <td>TX</td>\n",
       "      <td>5000.0</td>\n",
       "      <td>5000.0</td>\n",
       "      <td>O</td>\n",
       "      <td>36</td>\n",
       "      <td>36</td>\n",
       "      <td>Monthly</td>\n",
       "      <td>642.46</td>\n",
       "      <td>2018-04-10</td>\n",
       "      <td>4/27/2018</td>\n",
       "      <td>17</td>\n",
       "      <td>2018-04-09</td>\n",
       "      <td>20:34:56</td>\n",
       "      <td>Monday</td>\n",
       "      <td>1</td>\n",
       "    </tr>\n",
       "    <tr>\n",
       "      <th>2</th>\n",
       "      <td>14</td>\n",
       "      <td>2018-04-09T17:41:37Z</td>\n",
       "      <td>TX</td>\n",
       "      <td>2500.0</td>\n",
       "      <td>2500.0</td>\n",
       "      <td>O</td>\n",
       "      <td>108</td>\n",
       "      <td>6</td>\n",
       "      <td>Monthly</td>\n",
       "      <td>644.24</td>\n",
       "      <td>2018-04-09</td>\n",
       "      <td>5/10/2018</td>\n",
       "      <td>31</td>\n",
       "      <td>2018-04-09</td>\n",
       "      <td>17:41:37</td>\n",
       "      <td>Monday</td>\n",
       "      <td>0</td>\n",
       "    </tr>\n",
       "    <tr>\n",
       "      <th>3</th>\n",
       "      <td>19</td>\n",
       "      <td>2018-04-09T16:33:35Z</td>\n",
       "      <td>CA</td>\n",
       "      <td>2902.0</td>\n",
       "      <td>1451.0</td>\n",
       "      <td>R</td>\n",
       "      <td>48</td>\n",
       "      <td>36</td>\n",
       "      <td>BiWeekly</td>\n",
       "      <td>300.00</td>\n",
       "      <td>2018-04-09</td>\n",
       "      <td>4/20/2018</td>\n",
       "      <td>11</td>\n",
       "      <td>2018-04-09</td>\n",
       "      <td>16:33:35</td>\n",
       "      <td>Monday</td>\n",
       "      <td>0</td>\n",
       "    </tr>\n",
       "    <tr>\n",
       "      <th>4</th>\n",
       "      <td>28</td>\n",
       "      <td>2018-04-09T14:51:15Z</td>\n",
       "      <td>CA</td>\n",
       "      <td>5000.0</td>\n",
       "      <td>5000.0</td>\n",
       "      <td>R</td>\n",
       "      <td>12</td>\n",
       "      <td>12</td>\n",
       "      <td>Monthly</td>\n",
       "      <td>235.30</td>\n",
       "      <td>2018-04-09</td>\n",
       "      <td>4/30/2018</td>\n",
       "      <td>21</td>\n",
       "      <td>2018-04-09</td>\n",
       "      <td>14:51:15</td>\n",
       "      <td>Monday</td>\n",
       "      <td>0</td>\n",
       "    </tr>\n",
       "  </tbody>\n",
       "</table>\n",
       "</div>"
      ],
      "text/plain": [
       "   SetID   Time of Application State  Monthly Net Income  Paycheck Net Income  \\\n",
       "0      1  2018-04-09T23:25:18Z    CA              1894.0                947.0   \n",
       "1      4  2018-04-09T20:34:56Z    TX              5000.0               5000.0   \n",
       "2     14  2018-04-09T17:41:37Z    TX              2500.0               2500.0   \n",
       "3     19  2018-04-09T16:33:35Z    CA              2902.0               1451.0   \n",
       "4     28  2018-04-09T14:51:15Z    CA              5000.0               5000.0   \n",
       "\n",
       "  Rent or Own  Months at Residence  Bank Account Months Pay Cycle  \\\n",
       "0           R                    8                   30  BiWeekly   \n",
       "1           O                   36                   36   Monthly   \n",
       "2           O                  108                    6   Monthly   \n",
       "3           R                   48                   36  BiWeekly   \n",
       "4           R                   12                   12   Monthly   \n",
       "\n",
       "   Loan Amount Loan Funded  Date Loan Due Date  LoanDays       Dates  \\\n",
       "0       300.00        2018-04-10     4/20/2018        10  2018-04-09   \n",
       "1       642.46        2018-04-10     4/27/2018        17  2018-04-09   \n",
       "2       644.24        2018-04-09     5/10/2018        31  2018-04-09   \n",
       "3       300.00        2018-04-09     4/20/2018        11  2018-04-09   \n",
       "4       235.30        2018-04-09     4/30/2018        21  2018-04-09   \n",
       "\n",
       "       Time Week_Day  Loan Approval Duration (Days)  \n",
       "0  23:25:18   Monday                              1  \n",
       "1  20:34:56   Monday                              1  \n",
       "2  17:41:37   Monday                              0  \n",
       "3  16:33:35   Monday                              0  \n",
       "4  14:51:15   Monday                              0  "
      ]
     },
     "execution_count": 129,
     "metadata": {},
     "output_type": "execute_result"
    }
   ],
   "source": [
    "test.head()"
   ]
  },
  {
   "cell_type": "code",
   "execution_count": 130,
   "metadata": {},
   "outputs": [],
   "source": [
    "test = test.drop(['SetID', 'Time of Application','Paycheck Net Income','Loan Funded  Date', 'Loan Due Date', 'Dates', 'Time' ], axis =1)"
   ]
  },
  {
   "cell_type": "code",
   "execution_count": 131,
   "metadata": {},
   "outputs": [
    {
     "data": {
      "text/plain": [
       "Index(['State', 'Monthly Net Income', 'Rent or Own', 'Months at Residence',\n",
       "       'Bank Account Months', 'Pay Cycle', 'Loan Amount', 'LoanDays',\n",
       "       'Week_Day', 'Loan Approval Duration (Days)'],\n",
       "      dtype='object')"
      ]
     },
     "execution_count": 131,
     "metadata": {},
     "output_type": "execute_result"
    }
   ],
   "source": [
    "test.columns"
   ]
  },
  {
   "cell_type": "code",
   "execution_count": 132,
   "metadata": {},
   "outputs": [
    {
     "data": {
      "text/html": [
       "<div>\n",
       "<style scoped>\n",
       "    .dataframe tbody tr th:only-of-type {\n",
       "        vertical-align: middle;\n",
       "    }\n",
       "\n",
       "    .dataframe tbody tr th {\n",
       "        vertical-align: top;\n",
       "    }\n",
       "\n",
       "    .dataframe thead th {\n",
       "        text-align: right;\n",
       "    }\n",
       "</style>\n",
       "<table border=\"1\" class=\"dataframe\">\n",
       "  <thead>\n",
       "    <tr style=\"text-align: right;\">\n",
       "      <th></th>\n",
       "      <th>State</th>\n",
       "      <th>Monthly Net Income</th>\n",
       "      <th>Rent or Own</th>\n",
       "      <th>Months at Residence</th>\n",
       "      <th>Bank Account Months</th>\n",
       "      <th>Pay Cycle</th>\n",
       "      <th>Loan Amount</th>\n",
       "      <th>LoanDays</th>\n",
       "      <th>Week_Day</th>\n",
       "      <th>Loan Approval Duration (Days)</th>\n",
       "    </tr>\n",
       "  </thead>\n",
       "  <tbody>\n",
       "    <tr>\n",
       "      <th>0</th>\n",
       "      <td>CA</td>\n",
       "      <td>1894.0</td>\n",
       "      <td>R</td>\n",
       "      <td>8</td>\n",
       "      <td>30</td>\n",
       "      <td>BiWeekly</td>\n",
       "      <td>300.00</td>\n",
       "      <td>10</td>\n",
       "      <td>Monday</td>\n",
       "      <td>1</td>\n",
       "    </tr>\n",
       "    <tr>\n",
       "      <th>1</th>\n",
       "      <td>TX</td>\n",
       "      <td>5000.0</td>\n",
       "      <td>O</td>\n",
       "      <td>36</td>\n",
       "      <td>36</td>\n",
       "      <td>Monthly</td>\n",
       "      <td>642.46</td>\n",
       "      <td>17</td>\n",
       "      <td>Monday</td>\n",
       "      <td>1</td>\n",
       "    </tr>\n",
       "    <tr>\n",
       "      <th>2</th>\n",
       "      <td>TX</td>\n",
       "      <td>2500.0</td>\n",
       "      <td>O</td>\n",
       "      <td>108</td>\n",
       "      <td>6</td>\n",
       "      <td>Monthly</td>\n",
       "      <td>644.24</td>\n",
       "      <td>31</td>\n",
       "      <td>Monday</td>\n",
       "      <td>0</td>\n",
       "    </tr>\n",
       "    <tr>\n",
       "      <th>3</th>\n",
       "      <td>CA</td>\n",
       "      <td>2902.0</td>\n",
       "      <td>R</td>\n",
       "      <td>48</td>\n",
       "      <td>36</td>\n",
       "      <td>BiWeekly</td>\n",
       "      <td>300.00</td>\n",
       "      <td>11</td>\n",
       "      <td>Monday</td>\n",
       "      <td>0</td>\n",
       "    </tr>\n",
       "    <tr>\n",
       "      <th>4</th>\n",
       "      <td>CA</td>\n",
       "      <td>5000.0</td>\n",
       "      <td>R</td>\n",
       "      <td>12</td>\n",
       "      <td>12</td>\n",
       "      <td>Monthly</td>\n",
       "      <td>235.30</td>\n",
       "      <td>21</td>\n",
       "      <td>Monday</td>\n",
       "      <td>0</td>\n",
       "    </tr>\n",
       "  </tbody>\n",
       "</table>\n",
       "</div>"
      ],
      "text/plain": [
       "  State  Monthly Net Income Rent or Own  Months at Residence  \\\n",
       "0    CA              1894.0           R                    8   \n",
       "1    TX              5000.0           O                   36   \n",
       "2    TX              2500.0           O                  108   \n",
       "3    CA              2902.0           R                   48   \n",
       "4    CA              5000.0           R                   12   \n",
       "\n",
       "   Bank Account Months Pay Cycle  Loan Amount  LoanDays Week_Day  \\\n",
       "0                   30  BiWeekly       300.00        10   Monday   \n",
       "1                   36   Monthly       642.46        17   Monday   \n",
       "2                    6   Monthly       644.24        31   Monday   \n",
       "3                   36  BiWeekly       300.00        11   Monday   \n",
       "4                   12   Monthly       235.30        21   Monday   \n",
       "\n",
       "   Loan Approval Duration (Days)  \n",
       "0                              1  \n",
       "1                              1  \n",
       "2                              0  \n",
       "3                              0  \n",
       "4                              0  "
      ]
     },
     "execution_count": 132,
     "metadata": {},
     "output_type": "execute_result"
    }
   ],
   "source": [
    "test.head()"
   ]
  },
  {
   "cell_type": "code",
   "execution_count": 133,
   "metadata": {},
   "outputs": [],
   "source": [
    "LE_V1 = LabelEncoder()\n",
    "test['State']=LE_V1.fit_transform(test['State'])"
   ]
  },
  {
   "cell_type": "code",
   "execution_count": 134,
   "metadata": {},
   "outputs": [],
   "source": [
    "LE_V2 = LabelEncoder()\n",
    "test['Rent or Own'] = LE_V2.fit_transform(test['Rent or Own'])"
   ]
  },
  {
   "cell_type": "code",
   "execution_count": 135,
   "metadata": {},
   "outputs": [],
   "source": [
    "test = pd.get_dummies(test, columns = ['Pay Cycle', 'Week_Day'], prefix = [ 'Pay Cycle', ''])"
   ]
  },
  {
   "cell_type": "code",
   "execution_count": 136,
   "metadata": {},
   "outputs": [
    {
     "data": {
      "text/html": [
       "<div>\n",
       "<style scoped>\n",
       "    .dataframe tbody tr th:only-of-type {\n",
       "        vertical-align: middle;\n",
       "    }\n",
       "\n",
       "    .dataframe tbody tr th {\n",
       "        vertical-align: top;\n",
       "    }\n",
       "\n",
       "    .dataframe thead th {\n",
       "        text-align: right;\n",
       "    }\n",
       "</style>\n",
       "<table border=\"1\" class=\"dataframe\">\n",
       "  <thead>\n",
       "    <tr style=\"text-align: right;\">\n",
       "      <th></th>\n",
       "      <th>State</th>\n",
       "      <th>Monthly Net Income</th>\n",
       "      <th>Rent or Own</th>\n",
       "      <th>Months at Residence</th>\n",
       "      <th>Bank Account Months</th>\n",
       "      <th>Loan Amount</th>\n",
       "      <th>LoanDays</th>\n",
       "      <th>Loan Approval Duration (Days)</th>\n",
       "      <th>Pay Cycle_BiMonthly</th>\n",
       "      <th>Pay Cycle_BiWeekly</th>\n",
       "      <th>Pay Cycle_Monthly</th>\n",
       "      <th>Pay Cycle_Weekly</th>\n",
       "      <th>_Friday</th>\n",
       "      <th>_Monday</th>\n",
       "      <th>_Saturday</th>\n",
       "      <th>_Sunday</th>\n",
       "      <th>_Thursday</th>\n",
       "      <th>_Tuesday</th>\n",
       "      <th>_Wednesday</th>\n",
       "    </tr>\n",
       "  </thead>\n",
       "  <tbody>\n",
       "    <tr>\n",
       "      <th>0</th>\n",
       "      <td>0</td>\n",
       "      <td>1894.0</td>\n",
       "      <td>1</td>\n",
       "      <td>8</td>\n",
       "      <td>30</td>\n",
       "      <td>300.00</td>\n",
       "      <td>10</td>\n",
       "      <td>1</td>\n",
       "      <td>0</td>\n",
       "      <td>1</td>\n",
       "      <td>0</td>\n",
       "      <td>0</td>\n",
       "      <td>0</td>\n",
       "      <td>1</td>\n",
       "      <td>0</td>\n",
       "      <td>0</td>\n",
       "      <td>0</td>\n",
       "      <td>0</td>\n",
       "      <td>0</td>\n",
       "    </tr>\n",
       "    <tr>\n",
       "      <th>1</th>\n",
       "      <td>1</td>\n",
       "      <td>5000.0</td>\n",
       "      <td>0</td>\n",
       "      <td>36</td>\n",
       "      <td>36</td>\n",
       "      <td>642.46</td>\n",
       "      <td>17</td>\n",
       "      <td>1</td>\n",
       "      <td>0</td>\n",
       "      <td>0</td>\n",
       "      <td>1</td>\n",
       "      <td>0</td>\n",
       "      <td>0</td>\n",
       "      <td>1</td>\n",
       "      <td>0</td>\n",
       "      <td>0</td>\n",
       "      <td>0</td>\n",
       "      <td>0</td>\n",
       "      <td>0</td>\n",
       "    </tr>\n",
       "    <tr>\n",
       "      <th>2</th>\n",
       "      <td>1</td>\n",
       "      <td>2500.0</td>\n",
       "      <td>0</td>\n",
       "      <td>108</td>\n",
       "      <td>6</td>\n",
       "      <td>644.24</td>\n",
       "      <td>31</td>\n",
       "      <td>0</td>\n",
       "      <td>0</td>\n",
       "      <td>0</td>\n",
       "      <td>1</td>\n",
       "      <td>0</td>\n",
       "      <td>0</td>\n",
       "      <td>1</td>\n",
       "      <td>0</td>\n",
       "      <td>0</td>\n",
       "      <td>0</td>\n",
       "      <td>0</td>\n",
       "      <td>0</td>\n",
       "    </tr>\n",
       "    <tr>\n",
       "      <th>3</th>\n",
       "      <td>0</td>\n",
       "      <td>2902.0</td>\n",
       "      <td>1</td>\n",
       "      <td>48</td>\n",
       "      <td>36</td>\n",
       "      <td>300.00</td>\n",
       "      <td>11</td>\n",
       "      <td>0</td>\n",
       "      <td>0</td>\n",
       "      <td>1</td>\n",
       "      <td>0</td>\n",
       "      <td>0</td>\n",
       "      <td>0</td>\n",
       "      <td>1</td>\n",
       "      <td>0</td>\n",
       "      <td>0</td>\n",
       "      <td>0</td>\n",
       "      <td>0</td>\n",
       "      <td>0</td>\n",
       "    </tr>\n",
       "    <tr>\n",
       "      <th>4</th>\n",
       "      <td>0</td>\n",
       "      <td>5000.0</td>\n",
       "      <td>1</td>\n",
       "      <td>12</td>\n",
       "      <td>12</td>\n",
       "      <td>235.30</td>\n",
       "      <td>21</td>\n",
       "      <td>0</td>\n",
       "      <td>0</td>\n",
       "      <td>0</td>\n",
       "      <td>1</td>\n",
       "      <td>0</td>\n",
       "      <td>0</td>\n",
       "      <td>1</td>\n",
       "      <td>0</td>\n",
       "      <td>0</td>\n",
       "      <td>0</td>\n",
       "      <td>0</td>\n",
       "      <td>0</td>\n",
       "    </tr>\n",
       "  </tbody>\n",
       "</table>\n",
       "</div>"
      ],
      "text/plain": [
       "   State  Monthly Net Income  Rent or Own  Months at Residence  \\\n",
       "0      0              1894.0            1                    8   \n",
       "1      1              5000.0            0                   36   \n",
       "2      1              2500.0            0                  108   \n",
       "3      0              2902.0            1                   48   \n",
       "4      0              5000.0            1                   12   \n",
       "\n",
       "   Bank Account Months  Loan Amount  LoanDays  Loan Approval Duration (Days)  \\\n",
       "0                   30       300.00        10                              1   \n",
       "1                   36       642.46        17                              1   \n",
       "2                    6       644.24        31                              0   \n",
       "3                   36       300.00        11                              0   \n",
       "4                   12       235.30        21                              0   \n",
       "\n",
       "   Pay Cycle_BiMonthly  Pay Cycle_BiWeekly  Pay Cycle_Monthly  \\\n",
       "0                    0                   1                  0   \n",
       "1                    0                   0                  1   \n",
       "2                    0                   0                  1   \n",
       "3                    0                   1                  0   \n",
       "4                    0                   0                  1   \n",
       "\n",
       "   Pay Cycle_Weekly  _Friday  _Monday  _Saturday  _Sunday  _Thursday  \\\n",
       "0                 0        0        1          0        0          0   \n",
       "1                 0        0        1          0        0          0   \n",
       "2                 0        0        1          0        0          0   \n",
       "3                 0        0        1          0        0          0   \n",
       "4                 0        0        1          0        0          0   \n",
       "\n",
       "   _Tuesday  _Wednesday  \n",
       "0         0           0  \n",
       "1         0           0  \n",
       "2         0           0  \n",
       "3         0           0  \n",
       "4         0           0  "
      ]
     },
     "execution_count": 136,
     "metadata": {},
     "output_type": "execute_result"
    }
   ],
   "source": [
    "test = pd.DataFrame(test)\n",
    "test.head()"
   ]
  },
  {
   "cell_type": "markdown",
   "metadata": {},
   "source": [
    "# Prediction of the Best Model on the Test Data"
   ]
  },
  {
   "cell_type": "code",
   "execution_count": 137,
   "metadata": {},
   "outputs": [
    {
     "data": {
      "text/html": [
       "<div>\n",
       "<style scoped>\n",
       "    .dataframe tbody tr th:only-of-type {\n",
       "        vertical-align: middle;\n",
       "    }\n",
       "\n",
       "    .dataframe tbody tr th {\n",
       "        vertical-align: top;\n",
       "    }\n",
       "\n",
       "    .dataframe thead th {\n",
       "        text-align: right;\n",
       "    }\n",
       "</style>\n",
       "<table border=\"1\" class=\"dataframe\">\n",
       "  <thead>\n",
       "    <tr style=\"text-align: right;\">\n",
       "      <th></th>\n",
       "      <th>0</th>\n",
       "    </tr>\n",
       "  </thead>\n",
       "  <tbody>\n",
       "    <tr>\n",
       "      <th>0</th>\n",
       "      <td>0</td>\n",
       "    </tr>\n",
       "    <tr>\n",
       "      <th>1</th>\n",
       "      <td>0</td>\n",
       "    </tr>\n",
       "    <tr>\n",
       "      <th>2</th>\n",
       "      <td>0</td>\n",
       "    </tr>\n",
       "    <tr>\n",
       "      <th>3</th>\n",
       "      <td>0</td>\n",
       "    </tr>\n",
       "    <tr>\n",
       "      <th>4</th>\n",
       "      <td>0</td>\n",
       "    </tr>\n",
       "  </tbody>\n",
       "</table>\n",
       "</div>"
      ],
      "text/plain": [
       "   0\n",
       "0  0\n",
       "1  0\n",
       "2  0\n",
       "3  0\n",
       "4  0"
      ]
     },
     "execution_count": 137,
     "metadata": {},
     "output_type": "execute_result"
    }
   ],
   "source": [
    "Predicted_Values = model.predict(test)\n",
    "Predicted_Values = pd.DataFrame(Predicted_Values)\n",
    "Predicted_Values.head()"
   ]
  },
  {
   "cell_type": "code",
   "execution_count": 138,
   "metadata": {},
   "outputs": [
    {
     "data": {
      "text/html": [
       "<div>\n",
       "<style scoped>\n",
       "    .dataframe tbody tr th:only-of-type {\n",
       "        vertical-align: middle;\n",
       "    }\n",
       "\n",
       "    .dataframe tbody tr th {\n",
       "        vertical-align: top;\n",
       "    }\n",
       "\n",
       "    .dataframe thead th {\n",
       "        text-align: right;\n",
       "    }\n",
       "</style>\n",
       "<table border=\"1\" class=\"dataframe\">\n",
       "  <thead>\n",
       "    <tr style=\"text-align: right;\">\n",
       "      <th></th>\n",
       "      <th>First Payment Default12</th>\n",
       "    </tr>\n",
       "  </thead>\n",
       "  <tbody>\n",
       "    <tr>\n",
       "      <th>0</th>\n",
       "      <td>0</td>\n",
       "    </tr>\n",
       "    <tr>\n",
       "      <th>1</th>\n",
       "      <td>0</td>\n",
       "    </tr>\n",
       "    <tr>\n",
       "      <th>2</th>\n",
       "      <td>0</td>\n",
       "    </tr>\n",
       "    <tr>\n",
       "      <th>3</th>\n",
       "      <td>0</td>\n",
       "    </tr>\n",
       "    <tr>\n",
       "      <th>4</th>\n",
       "      <td>0</td>\n",
       "    </tr>\n",
       "  </tbody>\n",
       "</table>\n",
       "</div>"
      ],
      "text/plain": [
       "   First Payment Default12\n",
       "0                        0\n",
       "1                        0\n",
       "2                        0\n",
       "3                        0\n",
       "4                        0"
      ]
     },
     "execution_count": 138,
     "metadata": {},
     "output_type": "execute_result"
    }
   ],
   "source": [
    "Predicted_Values.rename(columns = {0: 'First Payment Default12'}, inplace = True)\n",
    "Predicted_Values.head()"
   ]
  },
  {
   "cell_type": "code",
   "execution_count": 139,
   "metadata": {},
   "outputs": [],
   "source": [
    "Predicted_Files = pd.concat([test,Predicted_Values],ignore_index = False, verify_integrity=True, axis =1)"
   ]
  },
  {
   "cell_type": "code",
   "execution_count": 140,
   "metadata": {},
   "outputs": [
    {
     "data": {
      "text/html": [
       "<div>\n",
       "<style scoped>\n",
       "    .dataframe tbody tr th:only-of-type {\n",
       "        vertical-align: middle;\n",
       "    }\n",
       "\n",
       "    .dataframe tbody tr th {\n",
       "        vertical-align: top;\n",
       "    }\n",
       "\n",
       "    .dataframe thead th {\n",
       "        text-align: right;\n",
       "    }\n",
       "</style>\n",
       "<table border=\"1\" class=\"dataframe\">\n",
       "  <thead>\n",
       "    <tr style=\"text-align: right;\">\n",
       "      <th></th>\n",
       "      <th>State</th>\n",
       "      <th>Monthly Net Income</th>\n",
       "      <th>Rent or Own</th>\n",
       "      <th>Months at Residence</th>\n",
       "      <th>Bank Account Months</th>\n",
       "      <th>Loan Amount</th>\n",
       "      <th>LoanDays</th>\n",
       "      <th>Loan Approval Duration (Days)</th>\n",
       "      <th>Pay Cycle_BiMonthly</th>\n",
       "      <th>Pay Cycle_BiWeekly</th>\n",
       "      <th>Pay Cycle_Monthly</th>\n",
       "      <th>Pay Cycle_Weekly</th>\n",
       "      <th>_Friday</th>\n",
       "      <th>_Monday</th>\n",
       "      <th>_Saturday</th>\n",
       "      <th>_Sunday</th>\n",
       "      <th>_Thursday</th>\n",
       "      <th>_Tuesday</th>\n",
       "      <th>_Wednesday</th>\n",
       "      <th>First Payment Default12</th>\n",
       "    </tr>\n",
       "  </thead>\n",
       "  <tbody>\n",
       "    <tr>\n",
       "      <th>0</th>\n",
       "      <td>0</td>\n",
       "      <td>1894.0</td>\n",
       "      <td>1</td>\n",
       "      <td>8</td>\n",
       "      <td>30</td>\n",
       "      <td>300.00</td>\n",
       "      <td>10</td>\n",
       "      <td>1</td>\n",
       "      <td>0</td>\n",
       "      <td>1</td>\n",
       "      <td>0</td>\n",
       "      <td>0</td>\n",
       "      <td>0</td>\n",
       "      <td>1</td>\n",
       "      <td>0</td>\n",
       "      <td>0</td>\n",
       "      <td>0</td>\n",
       "      <td>0</td>\n",
       "      <td>0</td>\n",
       "      <td>0</td>\n",
       "    </tr>\n",
       "    <tr>\n",
       "      <th>1</th>\n",
       "      <td>1</td>\n",
       "      <td>5000.0</td>\n",
       "      <td>0</td>\n",
       "      <td>36</td>\n",
       "      <td>36</td>\n",
       "      <td>642.46</td>\n",
       "      <td>17</td>\n",
       "      <td>1</td>\n",
       "      <td>0</td>\n",
       "      <td>0</td>\n",
       "      <td>1</td>\n",
       "      <td>0</td>\n",
       "      <td>0</td>\n",
       "      <td>1</td>\n",
       "      <td>0</td>\n",
       "      <td>0</td>\n",
       "      <td>0</td>\n",
       "      <td>0</td>\n",
       "      <td>0</td>\n",
       "      <td>0</td>\n",
       "    </tr>\n",
       "    <tr>\n",
       "      <th>2</th>\n",
       "      <td>1</td>\n",
       "      <td>2500.0</td>\n",
       "      <td>0</td>\n",
       "      <td>108</td>\n",
       "      <td>6</td>\n",
       "      <td>644.24</td>\n",
       "      <td>31</td>\n",
       "      <td>0</td>\n",
       "      <td>0</td>\n",
       "      <td>0</td>\n",
       "      <td>1</td>\n",
       "      <td>0</td>\n",
       "      <td>0</td>\n",
       "      <td>1</td>\n",
       "      <td>0</td>\n",
       "      <td>0</td>\n",
       "      <td>0</td>\n",
       "      <td>0</td>\n",
       "      <td>0</td>\n",
       "      <td>0</td>\n",
       "    </tr>\n",
       "    <tr>\n",
       "      <th>3</th>\n",
       "      <td>0</td>\n",
       "      <td>2902.0</td>\n",
       "      <td>1</td>\n",
       "      <td>48</td>\n",
       "      <td>36</td>\n",
       "      <td>300.00</td>\n",
       "      <td>11</td>\n",
       "      <td>0</td>\n",
       "      <td>0</td>\n",
       "      <td>1</td>\n",
       "      <td>0</td>\n",
       "      <td>0</td>\n",
       "      <td>0</td>\n",
       "      <td>1</td>\n",
       "      <td>0</td>\n",
       "      <td>0</td>\n",
       "      <td>0</td>\n",
       "      <td>0</td>\n",
       "      <td>0</td>\n",
       "      <td>0</td>\n",
       "    </tr>\n",
       "    <tr>\n",
       "      <th>4</th>\n",
       "      <td>0</td>\n",
       "      <td>5000.0</td>\n",
       "      <td>1</td>\n",
       "      <td>12</td>\n",
       "      <td>12</td>\n",
       "      <td>235.30</td>\n",
       "      <td>21</td>\n",
       "      <td>0</td>\n",
       "      <td>0</td>\n",
       "      <td>0</td>\n",
       "      <td>1</td>\n",
       "      <td>0</td>\n",
       "      <td>0</td>\n",
       "      <td>1</td>\n",
       "      <td>0</td>\n",
       "      <td>0</td>\n",
       "      <td>0</td>\n",
       "      <td>0</td>\n",
       "      <td>0</td>\n",
       "      <td>0</td>\n",
       "    </tr>\n",
       "  </tbody>\n",
       "</table>\n",
       "</div>"
      ],
      "text/plain": [
       "   State  Monthly Net Income  Rent or Own  Months at Residence  \\\n",
       "0      0              1894.0            1                    8   \n",
       "1      1              5000.0            0                   36   \n",
       "2      1              2500.0            0                  108   \n",
       "3      0              2902.0            1                   48   \n",
       "4      0              5000.0            1                   12   \n",
       "\n",
       "   Bank Account Months  Loan Amount  LoanDays  Loan Approval Duration (Days)  \\\n",
       "0                   30       300.00        10                              1   \n",
       "1                   36       642.46        17                              1   \n",
       "2                    6       644.24        31                              0   \n",
       "3                   36       300.00        11                              0   \n",
       "4                   12       235.30        21                              0   \n",
       "\n",
       "   Pay Cycle_BiMonthly  Pay Cycle_BiWeekly  Pay Cycle_Monthly  \\\n",
       "0                    0                   1                  0   \n",
       "1                    0                   0                  1   \n",
       "2                    0                   0                  1   \n",
       "3                    0                   1                  0   \n",
       "4                    0                   0                  1   \n",
       "\n",
       "   Pay Cycle_Weekly  _Friday  _Monday  _Saturday  _Sunday  _Thursday  \\\n",
       "0                 0        0        1          0        0          0   \n",
       "1                 0        0        1          0        0          0   \n",
       "2                 0        0        1          0        0          0   \n",
       "3                 0        0        1          0        0          0   \n",
       "4                 0        0        1          0        0          0   \n",
       "\n",
       "   _Tuesday  _Wednesday  First Payment Default12  \n",
       "0         0           0                        0  \n",
       "1         0           0                        0  \n",
       "2         0           0                        0  \n",
       "3         0           0                        0  \n",
       "4         0           0                        0  "
      ]
     },
     "execution_count": 140,
     "metadata": {},
     "output_type": "execute_result"
    }
   ],
   "source": [
    "Predicted_Files.head()"
   ]
  },
  {
   "cell_type": "code",
   "execution_count": 141,
   "metadata": {},
   "outputs": [],
   "source": [
    "Predicted_Files.to_csv('Predicted_Files.csv')"
   ]
  },
  {
   "cell_type": "code",
   "execution_count": null,
   "metadata": {},
   "outputs": [],
   "source": []
  }
 ],
 "metadata": {
  "kernelspec": {
   "display_name": "Python 3",
   "language": "python",
   "name": "python3"
  },
  "language_info": {
   "codemirror_mode": {
    "name": "ipython",
    "version": 3
   },
   "file_extension": ".py",
   "mimetype": "text/x-python",
   "name": "python",
   "nbconvert_exporter": "python",
   "pygments_lexer": "ipython3",
   "version": "3.7.3"
  }
 },
 "nbformat": 4,
 "nbformat_minor": 2
}
